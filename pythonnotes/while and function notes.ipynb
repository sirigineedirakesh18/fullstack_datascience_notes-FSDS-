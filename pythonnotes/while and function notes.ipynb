{
 "cells": [
  {
   "cell_type": "code",
   "execution_count": 4,
   "id": "ba22e712",
   "metadata": {},
   "outputs": [
    {
     "name": "stdout",
     "output_type": "stream",
     "text": [
      "1 2 3 4 5 6 7 8 9 10 "
     ]
    }
   ],
   "source": [
    "a=1\n",
    "b=10\n",
    "while a<=b:\n",
    "    print(a,end=\" \")\n",
    "    a=a+1"
   ]
  },
  {
   "cell_type": "code",
   "execution_count": 6,
   "id": "faaa8856",
   "metadata": {},
   "outputs": [
    {
     "name": "stdout",
     "output_type": "stream",
     "text": [
      "1 3 5 7 9 print this else block\n"
     ]
    }
   ],
   "source": [
    "a=1\n",
    "b=10\n",
    "while a<=b:\n",
    "    print(a,end=\" \")\n",
    "    a=a+2\n",
    "else:\n",
    "    print('print this else block')"
   ]
  },
  {
   "cell_type": "code",
   "execution_count": 7,
   "id": "0b207441",
   "metadata": {},
   "outputs": [
    {
     "name": "stdout",
     "output_type": "stream",
     "text": [
      "1 2 3 4 5 "
     ]
    }
   ],
   "source": [
    "a=1\n",
    "b=10\n",
    "a=1\n",
    "b=10\n",
    "while a<=b:\n",
    "    print(a,end=\" \")\n",
    "    if a==5:\n",
    "        break\n",
    "    a=a+1\n",
    "else:\n",
    "    print(\"print this\")"
   ]
  },
  {
   "cell_type": "code",
   "execution_count": 9,
   "id": "145ad17f",
   "metadata": {},
   "outputs": [
    {
     "ename": "IndentationError",
     "evalue": "unexpected indent (555334489.py, line 4)",
     "output_type": "error",
     "traceback": [
      "\u001b[1;36m  Cell \u001b[1;32mIn[9], line 4\u001b[1;36m\u001b[0m\n\u001b[1;33m    print(a,end=\"\")\u001b[0m\n\u001b[1;37m    ^\u001b[0m\n\u001b[1;31mIndentationError\u001b[0m\u001b[1;31m:\u001b[0m unexpected indent\n"
     ]
    }
   ],
   "source": [
    "a = 1 \n",
    "b = 10 \n",
    "#while a < b :\n",
    "    print(a,end=\"\")\n",
    "    if a == 3:\n",
    "        continue\n",
    "    a = a +1\n",
    "#infinite loop"
   ]
  },
  {
   "cell_type": "code",
   "execution_count": 17,
   "id": "6f524aab",
   "metadata": {},
   "outputs": [
    {
     "name": "stdout",
     "output_type": "stream",
     "text": [
      "1 2 3 4 5 6 7 8 9 "
     ]
    }
   ],
   "source": [
    "a=1\n",
    "b=10\n",
    "while a<b:\n",
    "    print(a,end=' ')\n",
    "    a=a+1\n",
    "    if a==3:\n",
    "        continue"
   ]
  },
  {
   "cell_type": "code",
   "execution_count": 21,
   "id": "a10bb7f0",
   "metadata": {},
   "outputs": [
    {
     "name": "stdout",
     "output_type": "stream",
     "text": [
      "2\n",
      "3\n",
      "4\n",
      "5\n",
      "6\n",
      "7\n",
      "8\n",
      "9\n",
      "10\n"
     ]
    }
   ],
   "source": [
    "a=1\n",
    "b=10\n",
    "while a<b:\n",
    "    a=a+1\n",
    "    if a==3:\n",
    "        pass\n",
    "    print(a)"
   ]
  },
  {
   "cell_type": "markdown",
   "id": "a0fcfe77",
   "metadata": {},
   "source": [
    "## Function"
   ]
  },
  {
   "cell_type": "code",
   "execution_count": 22,
   "id": "7c2ef08f",
   "metadata": {},
   "outputs": [],
   "source": [
    "def test():\n",
    "    print('iam king')"
   ]
  },
  {
   "cell_type": "code",
   "execution_count": 23,
   "id": "905e30d6",
   "metadata": {},
   "outputs": [
    {
     "name": "stdout",
     "output_type": "stream",
     "text": [
      "iam king\n"
     ]
    }
   ],
   "source": [
    "test()"
   ]
  },
  {
   "cell_type": "code",
   "execution_count": 24,
   "id": "06cf3684",
   "metadata": {},
   "outputs": [
    {
     "name": "stdout",
     "output_type": "stream",
     "text": [
      "iam king\n"
     ]
    },
    {
     "ename": "TypeError",
     "evalue": "unsupported operand type(s) for +: 'NoneType' and 'str'",
     "output_type": "error",
     "traceback": [
      "\u001b[1;31m---------------------------------------------------------------------------\u001b[0m",
      "\u001b[1;31mTypeError\u001b[0m                                 Traceback (most recent call last)",
      "Cell \u001b[1;32mIn[24], line 1\u001b[0m\n\u001b[1;32m----> 1\u001b[0m test()\u001b[38;5;241m+\u001b[39m\u001b[38;5;124m\"\u001b[39m\u001b[38;5;124mrak\u001b[39m\u001b[38;5;124m\"\u001b[39m\n",
      "\u001b[1;31mTypeError\u001b[0m: unsupported operand type(s) for +: 'NoneType' and 'str'"
     ]
    }
   ],
   "source": [
    "test()+\"rak\""
   ]
  },
  {
   "cell_type": "code",
   "execution_count": 25,
   "id": "c52fc902",
   "metadata": {},
   "outputs": [
    {
     "name": "stdout",
     "output_type": "stream",
     "text": [
      "iam king\n"
     ]
    },
    {
     "data": {
      "text/plain": [
       "NoneType"
      ]
     },
     "execution_count": 25,
     "metadata": {},
     "output_type": "execute_result"
    }
   ],
   "source": [
    "type(test())"
   ]
  },
  {
   "cell_type": "code",
   "execution_count": 26,
   "id": "6e29930d",
   "metadata": {},
   "outputs": [],
   "source": [
    "def test1():\n",
    "    return 'iam king'"
   ]
  },
  {
   "cell_type": "code",
   "execution_count": 27,
   "id": "3afd92bb",
   "metadata": {},
   "outputs": [
    {
     "data": {
      "text/plain": [
       "'iam kingrakesh'"
      ]
     },
     "execution_count": 27,
     "metadata": {},
     "output_type": "execute_result"
    }
   ],
   "source": [
    "test1()+'rakesh'"
   ]
  },
  {
   "cell_type": "code",
   "execution_count": 28,
   "id": "51df496d",
   "metadata": {},
   "outputs": [],
   "source": [
    "#print will always give none type where as return will give the exact data type"
   ]
  },
  {
   "cell_type": "code",
   "execution_count": 29,
   "id": "7a74fd63",
   "metadata": {},
   "outputs": [],
   "source": [
    "def test2():\n",
    "    pass"
   ]
  },
  {
   "cell_type": "code",
   "execution_count": 31,
   "id": "540b862d",
   "metadata": {},
   "outputs": [],
   "source": [
    "def test3():\n",
    "    return 1,3,5,[1,2,3,4,54,5]"
   ]
  },
  {
   "cell_type": "code",
   "execution_count": 32,
   "id": "edce01b0",
   "metadata": {},
   "outputs": [
    {
     "data": {
      "text/plain": [
       "tuple"
      ]
     },
     "execution_count": 32,
     "metadata": {},
     "output_type": "execute_result"
    }
   ],
   "source": [
    "type(test3())"
   ]
  },
  {
   "cell_type": "code",
   "execution_count": 34,
   "id": "d6a98aa1",
   "metadata": {},
   "outputs": [
    {
     "data": {
      "text/plain": [
       "(1, 3, 5, [1, 2, 3, 4, 54, 5])"
      ]
     },
     "execution_count": 34,
     "metadata": {},
     "output_type": "execute_result"
    }
   ],
   "source": [
    "test3()"
   ]
  },
  {
   "cell_type": "code",
   "execution_count": 35,
   "id": "1e94c62a",
   "metadata": {},
   "outputs": [],
   "source": [
    "a=1\n",
    "b=2\n",
    "c=3"
   ]
  },
  {
   "cell_type": "code",
   "execution_count": 36,
   "id": "0bffaeb1",
   "metadata": {},
   "outputs": [],
   "source": [
    "a,b,c=1,2,3"
   ]
  },
  {
   "cell_type": "code",
   "execution_count": 37,
   "id": "02b3d23a",
   "metadata": {},
   "outputs": [],
   "source": [
    "a,b,c=(1,2,3)"
   ]
  },
  {
   "cell_type": "code",
   "execution_count": 38,
   "id": "940fb183",
   "metadata": {},
   "outputs": [],
   "source": [
    "a,b,c,d=test3()"
   ]
  },
  {
   "cell_type": "code",
   "execution_count": 39,
   "id": "e6ebfe05",
   "metadata": {},
   "outputs": [
    {
     "data": {
      "text/plain": [
       "1"
      ]
     },
     "execution_count": 39,
     "metadata": {},
     "output_type": "execute_result"
    }
   ],
   "source": [
    "a"
   ]
  },
  {
   "cell_type": "code",
   "execution_count": 40,
   "id": "e5382adb",
   "metadata": {},
   "outputs": [
    {
     "data": {
      "text/plain": [
       "3"
      ]
     },
     "execution_count": 40,
     "metadata": {},
     "output_type": "execute_result"
    }
   ],
   "source": [
    "b"
   ]
  },
  {
   "cell_type": "code",
   "execution_count": 41,
   "id": "b5b7edfe",
   "metadata": {},
   "outputs": [
    {
     "data": {
      "text/plain": [
       "5"
      ]
     },
     "execution_count": 41,
     "metadata": {},
     "output_type": "execute_result"
    }
   ],
   "source": [
    "c"
   ]
  },
  {
   "cell_type": "code",
   "execution_count": 42,
   "id": "214fc83d",
   "metadata": {},
   "outputs": [
    {
     "data": {
      "text/plain": [
       "[1, 2, 3, 4, 54, 5]"
      ]
     },
     "execution_count": 42,
     "metadata": {},
     "output_type": "execute_result"
    }
   ],
   "source": [
    "d"
   ]
  },
  {
   "cell_type": "code",
   "execution_count": 43,
   "id": "95e9098f",
   "metadata": {},
   "outputs": [],
   "source": [
    "def test4():\n",
    "    a=4*5\n",
    "    b=4+5\n",
    "    return a,b"
   ]
  },
  {
   "cell_type": "code",
   "execution_count": 44,
   "id": "425dc456",
   "metadata": {},
   "outputs": [],
   "source": [
    "g=test4()"
   ]
  },
  {
   "cell_type": "code",
   "execution_count": 45,
   "id": "7da196f8",
   "metadata": {},
   "outputs": [
    {
     "data": {
      "text/plain": [
       "(20, 9)"
      ]
     },
     "execution_count": 45,
     "metadata": {},
     "output_type": "execute_result"
    }
   ],
   "source": [
    "g"
   ]
  },
  {
   "cell_type": "code",
   "execution_count": 46,
   "id": "a3575083",
   "metadata": {},
   "outputs": [],
   "source": [
    "h,k=g"
   ]
  },
  {
   "cell_type": "code",
   "execution_count": 47,
   "id": "aec3dab5",
   "metadata": {},
   "outputs": [
    {
     "data": {
      "text/plain": [
       "20"
      ]
     },
     "execution_count": 47,
     "metadata": {},
     "output_type": "execute_result"
    }
   ],
   "source": [
    "h"
   ]
  },
  {
   "cell_type": "code",
   "execution_count": 48,
   "id": "50a9d5c3",
   "metadata": {},
   "outputs": [
    {
     "data": {
      "text/plain": [
       "9"
      ]
     },
     "execution_count": 48,
     "metadata": {},
     "output_type": "execute_result"
    }
   ],
   "source": [
    "k"
   ]
  },
  {
   "cell_type": "code",
   "execution_count": 49,
   "id": "27652511",
   "metadata": {},
   "outputs": [],
   "source": [
    "_,j=test4()"
   ]
  },
  {
   "cell_type": "code",
   "execution_count": 50,
   "id": "0dba807a",
   "metadata": {},
   "outputs": [
    {
     "data": {
      "text/plain": [
       "20"
      ]
     },
     "execution_count": 50,
     "metadata": {},
     "output_type": "execute_result"
    }
   ],
   "source": [
    "_"
   ]
  },
  {
   "cell_type": "code",
   "execution_count": 51,
   "id": "e5ee0a8e",
   "metadata": {},
   "outputs": [
    {
     "data": {
      "text/plain": [
       "9"
      ]
     },
     "execution_count": 51,
     "metadata": {},
     "output_type": "execute_result"
    }
   ],
   "source": [
    "j"
   ]
  },
  {
   "cell_type": "code",
   "execution_count": 52,
   "id": "88812cef",
   "metadata": {},
   "outputs": [
    {
     "data": {
      "text/plain": [
       "(1, 3, 5, [1, 2, 3, 4, 54, 5])"
      ]
     },
     "execution_count": 52,
     "metadata": {},
     "output_type": "execute_result"
    }
   ],
   "source": [
    "test3()"
   ]
  },
  {
   "cell_type": "code",
   "execution_count": 53,
   "id": "640b43b1",
   "metadata": {},
   "outputs": [
    {
     "data": {
      "text/plain": [
       "\" _ is used as a Pl Holder Suppose we don't need 1, 3, 5 in the test 3 but we need that list so we save\\nfirst three elements in placeholder but we assign variable to that list\""
      ]
     },
     "execution_count": 53,
     "metadata": {},
     "output_type": "execute_result"
    }
   ],
   "source": [
    "\"\"\" _ is used as a Pl Holder Suppose we don't need 1, 3, 5 in the test 3 but we need that list so we save\n",
    "first three elements in placeholder but we assign variable to that list\"\"\""
   ]
  },
  {
   "cell_type": "code",
   "execution_count": 55,
   "id": "357f86fc",
   "metadata": {},
   "outputs": [],
   "source": [
    "_,_,_,_=test3()"
   ]
  },
  {
   "cell_type": "code",
   "execution_count": 56,
   "id": "476b509a",
   "metadata": {},
   "outputs": [
    {
     "data": {
      "text/plain": [
       "[1, 2, 3, 4, 54, 5]"
      ]
     },
     "execution_count": 56,
     "metadata": {},
     "output_type": "execute_result"
    }
   ],
   "source": [
    "_"
   ]
  },
  {
   "cell_type": "code",
   "execution_count": 57,
   "id": "6e1bf491",
   "metadata": {},
   "outputs": [
    {
     "data": {
      "text/plain": [
       "[1, 2, 3, 4, 54, 5]"
      ]
     },
     "execution_count": 57,
     "metadata": {},
     "output_type": "execute_result"
    }
   ],
   "source": [
    "_"
   ]
  },
  {
   "cell_type": "code",
   "execution_count": 58,
   "id": "51c4b02e",
   "metadata": {},
   "outputs": [
    {
     "data": {
      "text/plain": [
       "'if we assign all place holders it will take last assigned value'"
      ]
     },
     "execution_count": 58,
     "metadata": {},
     "output_type": "execute_result"
    }
   ],
   "source": [
    "\"\"\"if we assign all place holders it will take last assigned value\"\"\""
   ]
  },
  {
   "cell_type": "code",
   "execution_count": 59,
   "id": "d97adea7",
   "metadata": {},
   "outputs": [],
   "source": [
    "_,_,_,g= test3()"
   ]
  },
  {
   "cell_type": "code",
   "execution_count": 60,
   "id": "570ad891",
   "metadata": {},
   "outputs": [
    {
     "data": {
      "text/plain": [
       "[1, 2, 3, 4, 54, 5]"
      ]
     },
     "execution_count": 60,
     "metadata": {},
     "output_type": "execute_result"
    }
   ],
   "source": [
    "g"
   ]
  },
  {
   "cell_type": "code",
   "execution_count": 61,
   "id": "525d551f",
   "metadata": {},
   "outputs": [],
   "source": [
    "def test5():\n",
    "    a=1\n",
    "    b=10\n",
    "    while a<=b:\n",
    "        print(a,end=\" \")\n",
    "        a=a+2\n",
    "    else:\n",
    "        print('print this else block')\n",
    "   "
   ]
  },
  {
   "cell_type": "code",
   "execution_count": 62,
   "id": "f04e26cb",
   "metadata": {},
   "outputs": [
    {
     "name": "stdout",
     "output_type": "stream",
     "text": [
      "1 3 5 7 9 print this else block\n"
     ]
    }
   ],
   "source": [
    "test5()"
   ]
  },
  {
   "cell_type": "code",
   "execution_count": 67,
   "id": "e3c04171",
   "metadata": {},
   "outputs": [],
   "source": [
    "# I want the user to pass the value when the function is called\n",
    "def test5(a,b):\n",
    "    while a<=b:\n",
    "        return a\n",
    "        a=a+2\n",
    "    else:\n",
    "        return 'print this else block'"
   ]
  },
  {
   "cell_type": "code",
   "execution_count": 68,
   "id": "69044cee",
   "metadata": {},
   "outputs": [
    {
     "data": {
      "text/plain": [
       "1"
      ]
     },
     "execution_count": 68,
     "metadata": {},
     "output_type": "execute_result"
    }
   ],
   "source": [
    "test5(1,10)"
   ]
  },
  {
   "cell_type": "code",
   "execution_count": 69,
   "id": "36da8582",
   "metadata": {},
   "outputs": [
    {
     "data": {
      "text/plain": [
       "3"
      ]
     },
     "execution_count": 69,
     "metadata": {},
     "output_type": "execute_result"
    }
   ],
   "source": [
    "test5(3,56)"
   ]
  },
  {
   "cell_type": "code",
   "execution_count": 70,
   "id": "051118fb",
   "metadata": {},
   "outputs": [],
   "source": [
    "#with return u will only get one iteration value to resolve this we need to create ane empty list and append the iterated items"
   ]
  },
  {
   "cell_type": "code",
   "execution_count": 85,
   "id": "be4f6d46",
   "metadata": {},
   "outputs": [],
   "source": [
    "def testl(a,b):\n",
    "    l=[]\n",
    "    while a<=b:\n",
    "        l.append(a)\n",
    "        a=a+2\n",
    "        \n",
    "    else:\n",
    "        print( 'print this else block')\n",
    "    return l"
   ]
  },
  {
   "cell_type": "code",
   "execution_count": 86,
   "id": "78741ecd",
   "metadata": {},
   "outputs": [
    {
     "name": "stdout",
     "output_type": "stream",
     "text": [
      "print this else block\n"
     ]
    },
    {
     "data": {
      "text/plain": [
       "[1, 3, 5, 7, 9]"
      ]
     },
     "execution_count": 86,
     "metadata": {},
     "output_type": "execute_result"
    }
   ],
   "source": [
    "testl(1,10)"
   ]
  },
  {
   "cell_type": "code",
   "execution_count": 87,
   "id": "0fd4290a",
   "metadata": {},
   "outputs": [
    {
     "name": "stdout",
     "output_type": "stream",
     "text": [
      "print this else block\n"
     ]
    },
    {
     "data": {
      "text/plain": [
       "list"
      ]
     },
     "execution_count": 87,
     "metadata": {},
     "output_type": "execute_result"
    }
   ],
   "source": [
    "type(testl(30,2))"
   ]
  },
  {
   "cell_type": "code",
   "execution_count": 89,
   "id": "7334f8da",
   "metadata": {},
   "outputs": [],
   "source": [
    "\n"
   ]
  },
  {
   "cell_type": "code",
   "execution_count": null,
   "id": "a493f6d4",
   "metadata": {},
   "outputs": [],
   "source": []
  }
 ],
 "metadata": {
  "kernelspec": {
   "display_name": "Python 3 (ipykernel)",
   "language": "python",
   "name": "python3"
  },
  "language_info": {
   "codemirror_mode": {
    "name": "ipython",
    "version": 3
   },
   "file_extension": ".py",
   "mimetype": "text/x-python",
   "name": "python",
   "nbconvert_exporter": "python",
   "pygments_lexer": "ipython3",
   "version": "3.11.5"
  }
 },
 "nbformat": 4,
 "nbformat_minor": 5
}
