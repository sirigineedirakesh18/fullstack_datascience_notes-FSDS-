{
 "cells": [
  {
   "cell_type": "code",
   "execution_count": 1,
   "id": "7ac02bd5",
   "metadata": {},
   "outputs": [],
   "source": [
    "def test1(a,b,c,d,e) :\n",
    "    return a ,b ,c,d,e"
   ]
  },
  {
   "cell_type": "code",
   "execution_count": 2,
   "id": "3e2d7116",
   "metadata": {},
   "outputs": [
    {
     "ename": "TypeError",
     "evalue": "test1() takes 5 positional arguments but 7 were given",
     "output_type": "error",
     "traceback": [
      "\u001b[1;31m---------------------------------------------------------------------------\u001b[0m",
      "\u001b[1;31mTypeError\u001b[0m                                 Traceback (most recent call last)",
      "Cell \u001b[1;32mIn[2], line 1\u001b[0m\n\u001b[1;32m----> 1\u001b[0m test1(\u001b[38;5;241m3\u001b[39m,\u001b[38;5;241m4\u001b[39m,\u001b[38;5;241m5\u001b[39m,\u001b[38;5;241m6\u001b[39m,\u001b[38;5;241m7\u001b[39m,\u001b[38;5;241m7\u001b[39m,\u001b[38;5;241m7\u001b[39m)\n",
      "\u001b[1;31mTypeError\u001b[0m: test1() takes 5 positional arguments but 7 were given"
     ]
    }
   ],
   "source": [
    "test1(3,4,5,6,7,7,7)"
   ]
  },
  {
   "cell_type": "code",
   "execution_count": 3,
   "id": "c6235b2e",
   "metadata": {},
   "outputs": [],
   "source": [
    "#to avoid this error when we give any number of anput we have to * in parameter while defining function"
   ]
  },
  {
   "cell_type": "code",
   "execution_count": 5,
   "id": "251c6559",
   "metadata": {},
   "outputs": [],
   "source": [
    "def test(*a):\n",
    "    return a"
   ]
  },
  {
   "cell_type": "code",
   "execution_count": 6,
   "id": "4f580b8a",
   "metadata": {},
   "outputs": [
    {
     "data": {
      "text/plain": [
       "(56, 78, 66)"
      ]
     },
     "execution_count": 6,
     "metadata": {},
     "output_type": "execute_result"
    }
   ],
   "source": [
    "test(56,78,66)"
   ]
  },
  {
   "cell_type": "code",
   "execution_count": 8,
   "id": "57078994",
   "metadata": {},
   "outputs": [],
   "source": [
    "def test2(*args):\n",
    "    return args"
   ]
  },
  {
   "cell_type": "code",
   "execution_count": 10,
   "id": "ebe9aa96",
   "metadata": {},
   "outputs": [
    {
     "data": {
      "text/plain": [
       "(2, 8, 2, (76, 65, 24), [2, 4, 7])"
      ]
     },
     "execution_count": 10,
     "metadata": {},
     "output_type": "execute_result"
    }
   ],
   "source": [
    "test2(2,8,2,(76,65,24),[2,4,7])"
   ]
  },
  {
   "cell_type": "code",
   "execution_count": 11,
   "id": "d7b6f70a",
   "metadata": {},
   "outputs": [],
   "source": [
    "def test5(*a):\n",
    "    l=[]\n",
    "    for i in a:\n",
    "        l.append(i)\n",
    "    return l\n",
    "        \n",
    "        "
   ]
  },
  {
   "cell_type": "code",
   "execution_count": 12,
   "id": "5f47d64a",
   "metadata": {},
   "outputs": [
    {
     "data": {
      "text/plain": [
       "[3, 5, 7, (8, 9, 4)]"
      ]
     },
     "execution_count": 12,
     "metadata": {},
     "output_type": "execute_result"
    }
   ],
   "source": [
    "test5(3,5,7,(8,9,4))"
   ]
  },
  {
   "cell_type": "code",
   "execution_count": 13,
   "id": "5707476a",
   "metadata": {},
   "outputs": [],
   "source": [
    "def test6(a,b,c,d,*m):\n",
    "    return a,b,c,d,m"
   ]
  },
  {
   "cell_type": "code",
   "execution_count": 14,
   "id": "331d407f",
   "metadata": {},
   "outputs": [
    {
     "data": {
      "text/plain": [
       "(5, 2, 4, 8, (9, 3, 56, 78, 43))"
      ]
     },
     "execution_count": 14,
     "metadata": {},
     "output_type": "execute_result"
    }
   ],
   "source": [
    "test6(5,2,4,8,9,3,56,78,43)"
   ]
  },
  {
   "cell_type": "code",
   "execution_count": 15,
   "id": "a550c6b1",
   "metadata": {},
   "outputs": [],
   "source": [
    "def test7(*m,a,b,c,d,e):\n",
    "    return m,a,b,c,d"
   ]
  },
  {
   "cell_type": "code",
   "execution_count": 16,
   "id": "b780ad82",
   "metadata": {},
   "outputs": [
    {
     "ename": "TypeError",
     "evalue": "test7() missing 5 required keyword-only arguments: 'a', 'b', 'c', 'd', and 'e'",
     "output_type": "error",
     "traceback": [
      "\u001b[1;31m---------------------------------------------------------------------------\u001b[0m",
      "\u001b[1;31mTypeError\u001b[0m                                 Traceback (most recent call last)",
      "Cell \u001b[1;32mIn[16], line 1\u001b[0m\n\u001b[1;32m----> 1\u001b[0m test7(\u001b[38;5;241m7\u001b[39m,\u001b[38;5;241m4\u001b[39m,\u001b[38;5;241m5\u001b[39m,\u001b[38;5;241m6\u001b[39m,\u001b[38;5;241m7\u001b[39m,\u001b[38;5;241m899\u001b[39m,\u001b[38;5;241m65\u001b[39m,\u001b[38;5;241m43\u001b[39m,\u001b[38;5;241m3\u001b[39m)\n",
      "\u001b[1;31mTypeError\u001b[0m: test7() missing 5 required keyword-only arguments: 'a', 'b', 'c', 'd', and 'e'"
     ]
    }
   ],
   "source": [
    "test7(7,4,5,6,7,899,65,43,3)"
   ]
  },
  {
   "cell_type": "code",
   "execution_count": 18,
   "id": "85127ac0",
   "metadata": {},
   "outputs": [
    {
     "data": {
      "text/plain": [
       "((7, 4, 5, 6), 7, 65, 43, 899)"
      ]
     },
     "execution_count": 18,
     "metadata": {},
     "output_type": "execute_result"
    }
   ],
   "source": [
    "#to avoid this problem we need to assign the values of a,b,c,d,e\n",
    "test7(7,4,5,6,a=7,d=899,b=65,c=43,e=3)"
   ]
  },
  {
   "cell_type": "code",
   "execution_count": 24,
   "id": "95f38462",
   "metadata": {},
   "outputs": [],
   "source": [
    "#to get key value type(dict type)"
   ]
  },
  {
   "cell_type": "code",
   "execution_count": 25,
   "id": "b36d6bb6",
   "metadata": {},
   "outputs": [],
   "source": [
    "def test8(**a):\n",
    "    return a\n",
    "\n",
    "\n",
    "\n",
    "\n"
   ]
  },
  {
   "cell_type": "code",
   "execution_count": 26,
   "id": "2971cfc8",
   "metadata": {},
   "outputs": [
    {
     "data": {
      "text/plain": [
       "{'b': 8, 'c': 9}"
      ]
     },
     "execution_count": 26,
     "metadata": {},
     "output_type": "execute_result"
    }
   ],
   "source": [
    "test8(b=8,c=9)"
   ]
  },
  {
   "cell_type": "code",
   "execution_count": 27,
   "id": "c349c9e4",
   "metadata": {},
   "outputs": [],
   "source": [
    "def test9(*a,**m):\n",
    "    return a,m\n"
   ]
  },
  {
   "cell_type": "code",
   "execution_count": 28,
   "id": "0f05f7ef",
   "metadata": {},
   "outputs": [
    {
     "data": {
      "text/plain": [
       "((3, 4, 9, 2, 45), {'m': 23, 'n': 34, 'h': 8})"
      ]
     },
     "execution_count": 28,
     "metadata": {},
     "output_type": "execute_result"
    }
   ],
   "source": [
    "test9(3,4,9,2,45,m=23,n=34,h=8)"
   ]
  },
  {
   "cell_type": "code",
   "execution_count": 29,
   "id": "4f8022ac",
   "metadata": {},
   "outputs": [],
   "source": [
    "def test10(*a):\n",
    "    n=0\n",
    "    for i in a:\n",
    "        if type(i)==int:\n",
    "            n=n+i\n",
    "    return n\n",
    "    "
   ]
  },
  {
   "cell_type": "code",
   "execution_count": 30,
   "id": "c477b6c5",
   "metadata": {},
   "outputs": [
    {
     "data": {
      "text/plain": [
       "149"
      ]
     },
     "execution_count": 30,
     "metadata": {},
     "output_type": "execute_result"
    }
   ],
   "source": [
    "test10(2,7,4,6,87,43)"
   ]
  },
  {
   "cell_type": "code",
   "execution_count": 31,
   "id": "e479cddb",
   "metadata": {},
   "outputs": [],
   "source": [
    "n=lambda a,b:a+b"
   ]
  },
  {
   "cell_type": "code",
   "execution_count": 32,
   "id": "8fe0bd2d",
   "metadata": {},
   "outputs": [
    {
     "data": {
      "text/plain": [
       "<function __main__.<lambda>(a, b)>"
      ]
     },
     "execution_count": 32,
     "metadata": {},
     "output_type": "execute_result"
    }
   ],
   "source": [
    "n"
   ]
  },
  {
   "cell_type": "code",
   "execution_count": 33,
   "id": "42c5b590",
   "metadata": {},
   "outputs": [
    {
     "data": {
      "text/plain": [
       "9"
      ]
     },
     "execution_count": 33,
     "metadata": {},
     "output_type": "execute_result"
    }
   ],
   "source": [
    "n(4,5)"
   ]
  },
  {
   "cell_type": "code",
   "execution_count": 36,
   "id": "aa42daeb",
   "metadata": {},
   "outputs": [],
   "source": [
    "nc=lambda *a:a"
   ]
  },
  {
   "cell_type": "code",
   "execution_count": 37,
   "id": "b93a590b",
   "metadata": {},
   "outputs": [
    {
     "data": {
      "text/plain": [
       "(5, 6, 2, 78, 34, 23, 345)"
      ]
     },
     "execution_count": 37,
     "metadata": {},
     "output_type": "execute_result"
    }
   ],
   "source": [
    "nc(5,6,2,78,34,23,345)"
   ]
  },
  {
   "cell_type": "code",
   "execution_count": 39,
   "id": "05b46d45",
   "metadata": {},
   "outputs": [
    {
     "data": {
      "text/plain": [
       "[3, 4, 4, 5, 6, 6, 7, 76, 7]"
      ]
     },
     "execution_count": 39,
     "metadata": {},
     "output_type": "execute_result"
    }
   ],
   "source": [
    "t=(3,4,4,5,6,6,7,76,7)\n",
    "l=[]\n",
    "for i in t:\n",
    "    l.append(i)\n",
    "l"
   ]
  },
  {
   "cell_type": "code",
   "execution_count": 40,
   "id": "95635993",
   "metadata": {},
   "outputs": [
    {
     "data": {
      "text/plain": [
       "[3, 4, 4, 5, 6, 6, 7, 76, 7]"
      ]
     },
     "execution_count": 40,
     "metadata": {},
     "output_type": "execute_result"
    }
   ],
   "source": [
    "[i for i in t]"
   ]
  },
  {
   "cell_type": "code",
   "execution_count": 44,
   "id": "3b765a70",
   "metadata": {},
   "outputs": [
    {
     "data": {
      "text/plain": [
       "[0, 1, 4, 9, 16, 25, 36, 49, 64, 81]"
      ]
     },
     "execution_count": 44,
     "metadata": {},
     "output_type": "execute_result"
    }
   ],
   "source": [
    "[i*i for i in range(10)]"
   ]
  },
  {
   "cell_type": "code",
   "execution_count": 45,
   "id": "ac5f3e6e",
   "metadata": {},
   "outputs": [],
   "source": [
    "l= lambda *x: [i**2 for i in x]"
   ]
  },
  {
   "cell_type": "code",
   "execution_count": 46,
   "id": "29ddb350",
   "metadata": {},
   "outputs": [
    {
     "data": {
      "text/plain": [
       "[36, 49, 64, 16, 25]"
      ]
     },
     "execution_count": 46,
     "metadata": {},
     "output_type": "execute_result"
    }
   ],
   "source": [
    "l(6,7,8,4,5)"
   ]
  },
  {
   "cell_type": "code",
   "execution_count": null,
   "id": "75269a58",
   "metadata": {},
   "outputs": [],
   "source": [
    "test14()"
   ]
  }
 ],
 "metadata": {
  "kernelspec": {
   "display_name": "Python 3 (ipykernel)",
   "language": "python",
   "name": "python3"
  },
  "language_info": {
   "codemirror_mode": {
    "name": "ipython",
    "version": 3
   },
   "file_extension": ".py",
   "mimetype": "text/x-python",
   "name": "python",
   "nbconvert_exporter": "python",
   "pygments_lexer": "ipython3",
   "version": "3.11.5"
  }
 },
 "nbformat": 4,
 "nbformat_minor": 5
}
