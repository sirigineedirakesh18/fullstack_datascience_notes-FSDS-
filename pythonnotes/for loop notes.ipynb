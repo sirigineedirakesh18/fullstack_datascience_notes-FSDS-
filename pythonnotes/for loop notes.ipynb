{
 "cells": [
  {
   "cell_type": "code",
   "execution_count": 27,
   "id": "a4833dc5",
   "metadata": {},
   "outputs": [],
   "source": [
    "l=[1,2,3,4,'sudh','kumar',45.56]"
   ]
  },
  {
   "cell_type": "code",
   "execution_count": 28,
   "id": "2879f7f4",
   "metadata": {},
   "outputs": [
    {
     "name": "stdout",
     "output_type": "stream",
     "text": [
      "1\n",
      "2\n",
      "3\n",
      "4\n",
      "sudh\n",
      "kumar\n",
      "45.56\n"
     ]
    }
   ],
   "source": [
    "for i in l:\n",
    "    print(i)"
   ]
  },
  {
   "cell_type": "code",
   "execution_count": 29,
   "id": "b7234acf",
   "metadata": {},
   "outputs": [
    {
     "ename": "SyntaxError",
     "evalue": "incomplete input (239044884.py, line 1)",
     "output_type": "error",
     "traceback": [
      "\u001b[1;36m  Cell \u001b[1;32mIn[29], line 1\u001b[1;36m\u001b[0m\n\u001b[1;33m    for i in l:\u001b[0m\n\u001b[1;37m               ^\u001b[0m\n\u001b[1;31mSyntaxError\u001b[0m\u001b[1;31m:\u001b[0m incomplete input\n"
     ]
    }
   ],
   "source": [
    "for i in l:"
   ]
  },
  {
   "cell_type": "code",
   "execution_count": 30,
   "id": "61e357a4",
   "metadata": {},
   "outputs": [],
   "source": [
    "#to escape from the error we need to use pass\n",
    "for i in l:\n",
    "    pass"
   ]
  },
  {
   "cell_type": "code",
   "execution_count": 31,
   "id": "93bd5b60",
   "metadata": {},
   "outputs": [
    {
     "name": "stdout",
     "output_type": "stream",
     "text": [
      "s\n",
      "u\n",
      "d\n",
      "h\n"
     ]
    }
   ],
   "source": [
    "s='sudh'\n",
    "for i in s:\n",
    "    print(i)"
   ]
  },
  {
   "cell_type": "code",
   "execution_count": 32,
   "id": "f3702f3f",
   "metadata": {},
   "outputs": [
    {
     "name": "stdout",
     "output_type": "stream",
     "text": [
      "1\n",
      "2\n",
      "3\n",
      "4\n",
      "sudh\n",
      "kumar\n",
      "45.56\n",
      "uf for loop is completed else will be executed\n"
     ]
    }
   ],
   "source": [
    "for i in l:\n",
    "    print(i)\n",
    "else:\n",
    "    print('uf for loop is completed else will be executed')"
   ]
  },
  {
   "cell_type": "code",
   "execution_count": 33,
   "id": "4ebfdbab",
   "metadata": {},
   "outputs": [
    {
     "name": "stdout",
     "output_type": "stream",
     "text": [
      "1\n",
      "2\n",
      "3\n"
     ]
    }
   ],
   "source": [
    "for i in l:\n",
    "    if i==4:\n",
    "        break\n",
    "    print(i)\n",
    "else:\n",
    "    print('this will execute only if..for loop is going to complete by itself')"
   ]
  },
  {
   "cell_type": "code",
   "execution_count": 34,
   "id": "4274e6b0",
   "metadata": {},
   "outputs": [],
   "source": [
    "#else will only execute if for loop is exhausted but not if broke"
   ]
  },
  {
   "cell_type": "code",
   "execution_count": 35,
   "id": "f8cef92e",
   "metadata": {},
   "outputs": [
    {
     "name": "stdout",
     "output_type": "stream",
     "text": [
      "4\n",
      "5\n",
      "6\n",
      "7\n",
      "8\n",
      "6\n",
      "sudh\n"
     ]
    }
   ],
   "source": [
    "t=(4,5,6,7,8,6,'sudh')\n",
    "for i in t :\n",
    "    print(i)"
   ]
  },
  {
   "cell_type": "code",
   "execution_count": 36,
   "id": "d43a8fa0",
   "metadata": {},
   "outputs": [],
   "source": [
    "b ={5,6,7,7,7,5,5,5,6,6,6,34,34,34,8,'sudh'}"
   ]
  },
  {
   "cell_type": "code",
   "execution_count": 37,
   "id": "3c5cebf3",
   "metadata": {},
   "outputs": [
    {
     "data": {
      "text/plain": [
       "{34, 5, 6, 7, 8, 'sudh'}"
      ]
     },
     "execution_count": 37,
     "metadata": {},
     "output_type": "execute_result"
    }
   ],
   "source": [
    "b"
   ]
  },
  {
   "cell_type": "code",
   "execution_count": 38,
   "id": "088080e7",
   "metadata": {},
   "outputs": [
    {
     "name": "stdout",
     "output_type": "stream",
     "text": [
      "sudh\n",
      "34\n",
      "5\n",
      "6\n",
      "7\n",
      "8\n"
     ]
    }
   ],
   "source": [
    "for i in b:\n",
    "    print(i)"
   ]
  },
  {
   "cell_type": "code",
   "execution_count": 39,
   "id": "4cb5b654",
   "metadata": {},
   "outputs": [],
   "source": [
    "d={'key':'sudh','contact':'sudh@ineuron.ai','position':'ceo'}"
   ]
  },
  {
   "cell_type": "code",
   "execution_count": 40,
   "id": "cada51ab",
   "metadata": {},
   "outputs": [
    {
     "name": "stdout",
     "output_type": "stream",
     "text": [
      "sudh\n",
      "sudh@ineuron.ai\n",
      "ceo\n"
     ]
    }
   ],
   "source": [
    "for i in d:\n",
    "    print(d[i])"
   ]
  },
  {
   "cell_type": "code",
   "execution_count": 41,
   "id": "293203d6",
   "metadata": {},
   "outputs": [
    {
     "name": "stdout",
     "output_type": "stream",
     "text": [
      "number of rows:4\n",
      "rakesh\t\n",
      "\n",
      "rakesh\trakesh\t\n",
      "\n",
      "rakesh\trakesh\trakesh\t\n",
      "\n",
      "rakesh\trakesh\trakesh\trakesh\t\n",
      "\n"
     ]
    }
   ],
   "source": [
    "n=int(input(\"number of rows:\"))\n",
    "for i in range(n):\n",
    "    for j in range(i+1):\n",
    "        print('rakesh',end=\"\\t\")\n",
    "    print(\"\\n\")"
   ]
  },
  {
   "cell_type": "code",
   "execution_count": 61,
   "id": "00c48e93",
   "metadata": {},
   "outputs": [
    {
     "name": "stdout",
     "output_type": "stream",
     "text": [
      "number of rows:4\n",
      "      \t      \t      \trakesh\t\n",
      "      \t      \trakesh\trakesh\trakesh\t\n",
      "      \trakesh\trakesh\trakesh\trakesh\trakesh\t\n",
      "rakesh\trakesh\trakesh\trakesh\trakesh\trakesh\trakesh\t\n"
     ]
    }
   ],
   "source": [
    "n=int(input(\"number of rows:\"))\n",
    "for i in range(n):\n",
    "    for j in range(0,n-i-1):\n",
    "        print(' '*len('rakesh'),end='\\t')\n",
    "    for j in range(i+1):\n",
    "        print('rakesh',end='\\t')\n",
    "    for j in range(i):\n",
    "        print('rakesh',end='\\t') \n",
    "    print()\n",
    "    \n",
    "   "
   ]
  },
  {
   "cell_type": "code",
   "execution_count": 65,
   "id": "f9420b06",
   "metadata": {},
   "outputs": [
    {
     "name": "stdout",
     "output_type": "stream",
     "text": [
      "0 r\n",
      "1 a\n",
      "2 k\n",
      "3 e\n",
      "4 s\n",
      "5 h\n"
     ]
    }
   ],
   "source": [
    "s='rakesh'\n",
    "for i in range(len(s)):\n",
    "    print(i, s[i])"
   ]
  },
  {
   "cell_type": "code",
   "execution_count": 67,
   "id": "e38c9584",
   "metadata": {},
   "outputs": [
    {
     "name": "stdout",
     "output_type": "stream",
     "text": [
      "5 r\n",
      "4 a\n",
      "3 k\n",
      "2 e\n",
      "1 s\n",
      "0 h\n"
     ]
    }
   ],
   "source": [
    "s='rakesh'\n",
    "for i in range(len(s)):\n",
    "    print(len(s)-1-i, s[i])"
   ]
  },
  {
   "cell_type": "code",
   "execution_count": 69,
   "id": "30954352",
   "metadata": {},
   "outputs": [],
   "source": [
    "d={'key1':'rakesh','con':'sirigineedirakesh@gmail.com','position':'ceo'}"
   ]
  },
  {
   "cell_type": "code",
   "execution_count": 73,
   "id": "608daad8",
   "metadata": {},
   "outputs": [
    {
     "name": "stdout",
     "output_type": "stream",
     "text": [
      "('key1', 'rakesh') <class 'tuple'> <class 'str'> <class 'str'>\n",
      "('con', 'sirigineedirakesh@gmail.com') <class 'tuple'> <class 'str'> <class 'str'>\n",
      "('position', 'ceo') <class 'tuple'> <class 'str'> <class 'str'>\n"
     ]
    }
   ],
   "source": [
    "for i in d.items():\n",
    "    print(i,type(i),type(i[0]),type(i[1]))"
   ]
  },
  {
   "cell_type": "code",
   "execution_count": 74,
   "id": "2cbf2559",
   "metadata": {},
   "outputs": [],
   "source": [
    "d = {1: 3345345  , \"name\" : \"sudh\" , \"email_id\" : \"sudhanshu@ineuron.ai\" , 234 : \"fsfddsf\" , \"43\" : \"sfsaf\" , 234 : \"3454\"}"
   ]
  },
  {
   "cell_type": "code",
   "execution_count": 77,
   "id": "97d51f3e",
   "metadata": {},
   "outputs": [
    {
     "name": "stdout",
     "output_type": "stream",
     "text": [
      "(1, 3345345)\n",
      "(234, '3454')\n"
     ]
    }
   ],
   "source": [
    "for i in d.items():\n",
    "    if type(i[0])==int:\n",
    "        print(i)"
   ]
  },
  {
   "cell_type": "code",
   "execution_count": 78,
   "id": "d5113033",
   "metadata": {},
   "outputs": [
    {
     "name": "stdout",
     "output_type": "stream",
     "text": [
      "1 3345345\n",
      "234 3454\n"
     ]
    }
   ],
   "source": [
    "for i in d:\n",
    "    if type(i)==int:\n",
    "        print(i ,d[i])"
   ]
  },
  {
   "cell_type": "code",
   "execution_count": 94,
   "id": "b8ed3dee",
   "metadata": {},
   "outputs": [
    {
     "name": "stdout",
     "output_type": "stream",
     "text": [
      "a 4\n",
      "b 2\n",
      "c 2\n",
      "d 1\n"
     ]
    }
   ],
   "source": [
    "s = \"aaaabbccd\"\n",
    "l1=[]\n",
    "for i in s:\n",
    "    if i not in l1:\n",
    "        l1.append(i)\n",
    "for i in l1:\n",
    "    print(i , s.count(i))\n",
    "\n",
    "    \n",
    "    "
   ]
  },
  {
   "cell_type": "code",
   "execution_count": 95,
   "id": "d06fb749",
   "metadata": {},
   "outputs": [
    {
     "name": "stdout",
     "output_type": "stream",
     "text": [
      "a 4\n",
      "b 2\n",
      "c 2\n",
      "d 1\n"
     ]
    }
   ],
   "source": [
    "for i in set(s):\n",
    "    print(i , s.count(i))"
   ]
  },
  {
   "cell_type": "code",
   "execution_count": 117,
   "id": "c857aa4e",
   "metadata": {},
   "outputs": [
    {
     "name": "stdout",
     "output_type": "stream",
     "text": [
      "3\n",
      "3\n",
      "3\n",
      "3\n",
      "3\n"
     ]
    }
   ],
   "source": [
    "t = (3,\"su3dh\" , \"kumar\" ,[1,2,3,4,5] , (3,4,5,6) , {3:3 , \"key2\" :\"kumar\"})\n",
    "#extract whenever there is 3\n",
    "for i in t:\n",
    "    if i==3:\n",
    "        print(i)\n",
    "    if type(i)== tuple or type(i)== list:\n",
    "        for j in i:\n",
    "            if j==3:\n",
    "                print(j)    \n",
    "    if type(i)==dict:\n",
    "        for j in i.keys():\n",
    "            if j==3:\n",
    "                print(j)\n",
    "        for j in i.values():\n",
    "            if j==3:\n",
    "                print(j)\n",
    "            \n",
    "   "
   ]
  },
  {
   "cell_type": "code",
   "execution_count": null,
   "id": "ba9eb945",
   "metadata": {},
   "outputs": [],
   "source": []
  }
 ],
 "metadata": {
  "kernelspec": {
   "display_name": "Python 3 (ipykernel)",
   "language": "python",
   "name": "python3"
  },
  "language_info": {
   "codemirror_mode": {
    "name": "ipython",
    "version": 3
   },
   "file_extension": ".py",
   "mimetype": "text/x-python",
   "name": "python",
   "nbconvert_exporter": "python",
   "pygments_lexer": "ipython3",
   "version": "3.11.5"
  }
 },
 "nbformat": 4,
 "nbformat_minor": 5
}
