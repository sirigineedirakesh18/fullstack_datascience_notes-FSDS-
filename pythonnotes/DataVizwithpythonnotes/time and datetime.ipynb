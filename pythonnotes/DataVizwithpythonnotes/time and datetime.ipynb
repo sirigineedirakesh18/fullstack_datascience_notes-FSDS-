{
 "cells": [
  {
   "cell_type": "code",
   "execution_count": 3,
   "id": "58d5af62",
   "metadata": {},
   "outputs": [],
   "source": [
    "import time as t"
   ]
  },
  {
   "cell_type": "code",
   "execution_count": 4,
   "id": "65ea223b",
   "metadata": {},
   "outputs": [],
   "source": [
    "a= t.time()"
   ]
  },
  {
   "cell_type": "code",
   "execution_count": 10,
   "id": "39dbed3f",
   "metadata": {},
   "outputs": [
    {
     "data": {
      "text/plain": [
       "1698551901.139119"
      ]
     },
     "execution_count": 10,
     "metadata": {},
     "output_type": "execute_result"
    }
   ],
   "source": [
    "a\n",
    "#time in seconds .since 1 jan 1970"
   ]
  },
  {
   "cell_type": "code",
   "execution_count": 89,
   "id": "20d3d496",
   "metadata": {},
   "outputs": [],
   "source": [
    "b= t.ctime(a)\n",
    "#it will take duration from 1 jan 1970 in seconds as input and calculate the date in string format"
   ]
  },
  {
   "cell_type": "code",
   "execution_count": 88,
   "id": "05e25183",
   "metadata": {},
   "outputs": [
    {
     "name": "stdout",
     "output_type": "stream",
     "text": [
      "Sun Oct 29 09:28:21 2023 <class 'str'>\n"
     ]
    }
   ],
   "source": [
    "b\n",
    "print(b,type(b))"
   ]
  },
  {
   "cell_type": "code",
   "execution_count": 90,
   "id": "7368a2ff",
   "metadata": {},
   "outputs": [
    {
     "name": "stdout",
     "output_type": "stream",
     "text": [
      "time.struct_time(tm_year=2030, tm_mon=3, tm_mday=17, tm_hour=23, tm_min=22, tm_sec=25, tm_wday=6, tm_yday=76, tm_isdst=0) <class 'time.struct_time'>\n"
     ]
    }
   ],
   "source": [
    "c= t.localtime(1900000345)\n",
    "print(c,type(c))"
   ]
  },
  {
   "cell_type": "code",
   "execution_count": 15,
   "id": "bf800c1e",
   "metadata": {},
   "outputs": [
    {
     "data": {
      "text/plain": [
       "time.struct_time(tm_year=2030, tm_mon=3, tm_mday=17, tm_hour=23, tm_min=22, tm_sec=25, tm_wday=6, tm_yday=76, tm_isdst=0)"
      ]
     },
     "execution_count": 15,
     "metadata": {},
     "output_type": "execute_result"
    }
   ],
   "source": [
    "c\n",
    "#it take input as seconds and returns time in struct_time format"
   ]
  },
  {
   "cell_type": "code",
   "execution_count": 21,
   "id": "bd5cb0b2",
   "metadata": {},
   "outputs": [],
   "source": [
    "d=t.mktime(c)"
   ]
  },
  {
   "cell_type": "code",
   "execution_count": 22,
   "id": "5c511747",
   "metadata": {},
   "outputs": [
    {
     "data": {
      "text/plain": [
       "1900000345.0"
      ]
     },
     "execution_count": 22,
     "metadata": {},
     "output_type": "execute_result"
    }
   ],
   "source": [
    "d"
   ]
  },
  {
   "cell_type": "code",
   "execution_count": 23,
   "id": "036d37d6",
   "metadata": {},
   "outputs": [
    {
     "name": "stdout",
     "output_type": "stream",
     "text": [
      "hello world\n"
     ]
    }
   ],
   "source": [
    "e=t.sleep(60)\n",
    "print(\"hello world\")\n",
    "#it will execute after the seconds that are entered as a parameter"
   ]
  },
  {
   "cell_type": "code",
   "execution_count": 33,
   "id": "b5cd5661",
   "metadata": {},
   "outputs": [],
   "source": [
    "f=t.asctime(c)\n",
    "#asctime will return the struct input as local format"
   ]
  },
  {
   "cell_type": "code",
   "execution_count": 34,
   "id": "41543563",
   "metadata": {},
   "outputs": [
    {
     "data": {
      "text/plain": [
       "'Sun Mar 17 23:22:25 2030'"
      ]
     },
     "execution_count": 34,
     "metadata": {},
     "output_type": "execute_result"
    }
   ],
   "source": [
    "f"
   ]
  },
  {
   "cell_type": "code",
   "execution_count": 35,
   "id": "23c3fa29",
   "metadata": {},
   "outputs": [],
   "source": [
    "g= t.gmtime(t.time())"
   ]
  },
  {
   "cell_type": "code",
   "execution_count": 36,
   "id": "ed615c39",
   "metadata": {},
   "outputs": [
    {
     "data": {
      "text/plain": [
       "time.struct_time(tm_year=2023, tm_mon=10, tm_mday=29, tm_hour=4, tm_min=23, tm_sec=51, tm_wday=6, tm_yday=302, tm_isdst=0)"
      ]
     },
     "execution_count": 36,
     "metadata": {},
     "output_type": "execute_result"
    }
   ],
   "source": [
    "g\n",
    "#gmtime returns greenwitch meredian time by taking seconds as input"
   ]
  },
  {
   "cell_type": "code",
   "execution_count": 37,
   "id": "566b4b42",
   "metadata": {},
   "outputs": [
    {
     "name": "stdout",
     "output_type": "stream",
     "text": [
      "Help on built-in function strftime in module time:\n",
      "\n",
      "strftime(...)\n",
      "    strftime(format[, tuple]) -> string\n",
      "    \n",
      "    Convert a time tuple to a string according to a format specification.\n",
      "    See the library reference manual for formatting codes. When the time tuple\n",
      "    is not present, current time as returned by localtime() is used.\n",
      "    \n",
      "    Commonly used format codes:\n",
      "    \n",
      "    %Y  Year with century as a decimal number.\n",
      "    %m  Month as a decimal number [01,12].\n",
      "    %d  Day of the month as a decimal number [01,31].\n",
      "    %H  Hour (24-hour clock) as a decimal number [00,23].\n",
      "    %M  Minute as a decimal number [00,59].\n",
      "    %S  Second as a decimal number [00,61].\n",
      "    %z  Time zone offset from UTC.\n",
      "    %a  Locale's abbreviated weekday name.\n",
      "    %A  Locale's full weekday name.\n",
      "    %b  Locale's abbreviated month name.\n",
      "    %B  Locale's full month name.\n",
      "    %c  Locale's appropriate date and time representation.\n",
      "    %I  Hour (12-hour clock) as a decimal number [01,12].\n",
      "    %p  Locale's equivalent of either AM or PM.\n",
      "    \n",
      "    Other codes may be available on your platform.  See documentation for\n",
      "    the C library strftime function.\n",
      "\n"
     ]
    }
   ],
   "source": [
    "help(t.strftime)"
   ]
  },
  {
   "cell_type": "code",
   "execution_count": 38,
   "id": "34493a4e",
   "metadata": {},
   "outputs": [],
   "source": [
    "h= t.strftime(\"%d/%m/%Y %H/%M/%S %p %A-%B\")"
   ]
  },
  {
   "cell_type": "code",
   "execution_count": 41,
   "id": "05b2e644",
   "metadata": {},
   "outputs": [
    {
     "data": {
      "text/plain": [
       "'29/10/2023 09/57/40 AM Sunday-October'"
      ]
     },
     "execution_count": 41,
     "metadata": {},
     "output_type": "execute_result"
    }
   ],
   "source": [
    "h"
   ]
  },
  {
   "cell_type": "code",
   "execution_count": 43,
   "id": "296bc219",
   "metadata": {},
   "outputs": [],
   "source": [
    "i=t.strptime('29/10/2023 09/57/40 AM Sunday-October',\"%d/%m/%Y %H/%M/%S %p %A-%B\")"
   ]
  },
  {
   "cell_type": "code",
   "execution_count": 44,
   "id": "41b516ce",
   "metadata": {},
   "outputs": [
    {
     "data": {
      "text/plain": [
       "time.struct_time(tm_year=2023, tm_mon=10, tm_mday=29, tm_hour=9, tm_min=57, tm_sec=40, tm_wday=6, tm_yday=302, tm_isdst=-1)"
      ]
     },
     "execution_count": 44,
     "metadata": {},
     "output_type": "execute_result"
    }
   ],
   "source": [
    "i"
   ]
  },
  {
   "cell_type": "code",
   "execution_count": 53,
   "id": "2018755c",
   "metadata": {},
   "outputs": [],
   "source": [
    "k=t.struct_time((12,6,2000, 2,30,25,22,32,34))\n",
    "#takes 9 parameters as a sequence and gives time in struct format"
   ]
  },
  {
   "cell_type": "code",
   "execution_count": 54,
   "id": "ddd7dc4b",
   "metadata": {},
   "outputs": [
    {
     "data": {
      "text/plain": [
       "time.struct_time(tm_year=12, tm_mon=6, tm_mday=2000, tm_hour=2, tm_min=30, tm_sec=25, tm_wday=22, tm_yday=32, tm_isdst=34)"
      ]
     },
     "execution_count": 54,
     "metadata": {},
     "output_type": "execute_result"
    }
   ],
   "source": [
    "k"
   ]
  },
  {
   "cell_type": "markdown",
   "id": "bea06ac9",
   "metadata": {},
   "source": [
    "## Datetime"
   ]
  },
  {
   "cell_type": "code",
   "execution_count": 57,
   "id": "34073f20",
   "metadata": {},
   "outputs": [],
   "source": [
    "import datetime as dt"
   ]
  },
  {
   "cell_type": "code",
   "execution_count": 58,
   "id": "7436d498",
   "metadata": {},
   "outputs": [],
   "source": [
    "l= dt.datetime.now()"
   ]
  },
  {
   "cell_type": "code",
   "execution_count": 59,
   "id": "434b52ed",
   "metadata": {},
   "outputs": [
    {
     "data": {
      "text/plain": [
       "datetime.datetime(2023, 10, 29, 10, 12, 46, 168375)"
      ]
     },
     "execution_count": 59,
     "metadata": {},
     "output_type": "execute_result"
    }
   ],
   "source": [
    "l"
   ]
  },
  {
   "cell_type": "code",
   "execution_count": 60,
   "id": "c053064b",
   "metadata": {},
   "outputs": [],
   "source": [
    "m=dt.datetime.today()"
   ]
  },
  {
   "cell_type": "code",
   "execution_count": 61,
   "id": "db5fe516",
   "metadata": {},
   "outputs": [
    {
     "data": {
      "text/plain": [
       "datetime.datetime(2023, 10, 29, 10, 13, 7, 617363)"
      ]
     },
     "execution_count": 61,
     "metadata": {},
     "output_type": "execute_result"
    }
   ],
   "source": [
    "m"
   ]
  },
  {
   "cell_type": "code",
   "execution_count": 67,
   "id": "1f898c88",
   "metadata": {},
   "outputs": [],
   "source": [
    "n=dt.datetime(2000,6,12,15,0,30,12)"
   ]
  },
  {
   "cell_type": "code",
   "execution_count": 68,
   "id": "bb62e5d6",
   "metadata": {},
   "outputs": [
    {
     "name": "stdout",
     "output_type": "stream",
     "text": [
      "2000-06-12 15:00:30.000012\n"
     ]
    }
   ],
   "source": [
    "print(n)"
   ]
  },
  {
   "cell_type": "code",
   "execution_count": 70,
   "id": "d55e0645",
   "metadata": {},
   "outputs": [
    {
     "data": {
      "text/plain": [
       "2023"
      ]
     },
     "execution_count": 70,
     "metadata": {},
     "output_type": "execute_result"
    }
   ],
   "source": [
    "m.year"
   ]
  },
  {
   "cell_type": "code",
   "execution_count": 71,
   "id": "66541aef",
   "metadata": {},
   "outputs": [
    {
     "data": {
      "text/plain": [
       "10"
      ]
     },
     "execution_count": 71,
     "metadata": {},
     "output_type": "execute_result"
    }
   ],
   "source": [
    "m.month"
   ]
  },
  {
   "cell_type": "code",
   "execution_count": 72,
   "id": "e78bb4d0",
   "metadata": {},
   "outputs": [],
   "source": [
    "o=dt.date(2000,6,12)"
   ]
  },
  {
   "cell_type": "code",
   "execution_count": 73,
   "id": "cd0483a2",
   "metadata": {},
   "outputs": [
    {
     "data": {
      "text/plain": [
       "datetime.date(2000, 6, 12)"
      ]
     },
     "execution_count": 73,
     "metadata": {},
     "output_type": "execute_result"
    }
   ],
   "source": [
    "o"
   ]
  },
  {
   "cell_type": "code",
   "execution_count": 74,
   "id": "ecbd3744",
   "metadata": {},
   "outputs": [],
   "source": [
    "p=dt.time(18,0,30)"
   ]
  },
  {
   "cell_type": "code",
   "execution_count": 75,
   "id": "f69901c2",
   "metadata": {},
   "outputs": [
    {
     "data": {
      "text/plain": [
       "datetime.time(18, 0, 30)"
      ]
     },
     "execution_count": 75,
     "metadata": {},
     "output_type": "execute_result"
    }
   ],
   "source": [
    "p"
   ]
  },
  {
   "cell_type": "code",
   "execution_count": 78,
   "id": "1ea5d7ef",
   "metadata": {},
   "outputs": [
    {
     "name": "stdout",
     "output_type": "stream",
     "text": [
      "7 days, 0:20:21\n",
      "<class 'datetime.timedelta'>\n"
     ]
    }
   ],
   "source": [
    "#with timedelta method we can find differce between two times\n",
    "q1=dt.timedelta(days=30,seconds=1986)\n",
    "q2=dt.timedelta(days=23,seconds=765)\n",
    "q3=q1-q2\n",
    "print(q3)\n",
    "print(type(q3))"
   ]
  },
  {
   "cell_type": "code",
   "execution_count": 86,
   "id": "bf1244fd",
   "metadata": {},
   "outputs": [],
   "source": [
    "r=dt.datetime.fromtimestamp(t.time())\n",
    "#timestamp takes seconds as input and gives date and tiome output"
   ]
  },
  {
   "cell_type": "code",
   "execution_count": 87,
   "id": "7a72aad7",
   "metadata": {},
   "outputs": [
    {
     "name": "stdout",
     "output_type": "stream",
     "text": [
      "2023-10-29 10:32:01.397187\n",
      "<class 'datetime.datetime'>\n"
     ]
    }
   ],
   "source": [
    "print(r)\n",
    "print(type(r))"
   ]
  },
  {
   "cell_type": "code",
   "execution_count": null,
   "id": "f77c41f3",
   "metadata": {},
   "outputs": [],
   "source": []
  }
 ],
 "metadata": {
  "kernelspec": {
   "display_name": "Python 3 (ipykernel)",
   "language": "python",
   "name": "python3"
  },
  "language_info": {
   "codemirror_mode": {
    "name": "ipython",
    "version": 3
   },
   "file_extension": ".py",
   "mimetype": "text/x-python",
   "name": "python",
   "nbconvert_exporter": "python",
   "pygments_lexer": "ipython3",
   "version": "3.11.5"
  }
 },
 "nbformat": 4,
 "nbformat_minor": 5
}
