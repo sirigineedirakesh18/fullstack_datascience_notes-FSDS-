{
 "cells": [
  {
   "cell_type": "markdown",
   "id": "97a259d3",
   "metadata": {},
   "source": [
    "### list"
   ]
  },
  {
   "cell_type": "code",
   "execution_count": 1,
   "id": "cc8753f8",
   "metadata": {},
   "outputs": [],
   "source": [
    "l=[1,2,3,4,5,'sudh',45.67,True]"
   ]
  },
  {
   "cell_type": "code",
   "execution_count": 2,
   "id": "140ddd6d",
   "metadata": {},
   "outputs": [
    {
     "data": {
      "text/plain": [
       "[True, 45.67, 'sudh', 5, 4, 3, 2, 1]"
      ]
     },
     "execution_count": 2,
     "metadata": {},
     "output_type": "execute_result"
    }
   ],
   "source": [
    "l[::-1]"
   ]
  },
  {
   "cell_type": "code",
   "execution_count": 3,
   "id": "7edd8095",
   "metadata": {},
   "outputs": [
    {
     "data": {
      "text/plain": [
       "8"
      ]
     },
     "execution_count": 3,
     "metadata": {},
     "output_type": "execute_result"
    }
   ],
   "source": [
    "len(l)"
   ]
  },
  {
   "cell_type": "code",
   "execution_count": 5,
   "id": "ea7c17b4",
   "metadata": {},
   "outputs": [
    {
     "data": {
      "text/plain": [
       "[1, 2, 3, 4, 5, 'sudh', 45.67, True, 1, 2]"
      ]
     },
     "execution_count": 5,
     "metadata": {},
     "output_type": "execute_result"
    }
   ],
   "source": [
    "l+[1,2]"
   ]
  },
  {
   "cell_type": "code",
   "execution_count": 7,
   "id": "ba910384",
   "metadata": {},
   "outputs": [
    {
     "ename": "TypeError",
     "evalue": "can't multiply sequence by non-int of type 'list'",
     "output_type": "error",
     "traceback": [
      "\u001b[1;31m---------------------------------------------------------------------------\u001b[0m",
      "\u001b[1;31mTypeError\u001b[0m                                 Traceback (most recent call last)",
      "Cell \u001b[1;32mIn[7], line 1\u001b[0m\n\u001b[1;32m----> 1\u001b[0m l\u001b[38;5;241m*\u001b[39m[\u001b[38;5;241m1\u001b[39m]\n",
      "\u001b[1;31mTypeError\u001b[0m: can't multiply sequence by non-int of type 'list'"
     ]
    }
   ],
   "source": [
    "l*[1]"
   ]
  },
  {
   "cell_type": "code",
   "execution_count": 8,
   "id": "bf4a5421",
   "metadata": {},
   "outputs": [
    {
     "data": {
      "text/plain": [
       "[1, 2, 3, 4, 5, 'sudh', 45.67, True]"
      ]
     },
     "execution_count": 8,
     "metadata": {},
     "output_type": "execute_result"
    }
   ],
   "source": [
    "l"
   ]
  },
  {
   "cell_type": "code",
   "execution_count": 9,
   "id": "49f5df7e",
   "metadata": {},
   "outputs": [
    {
     "data": {
      "text/plain": [
       "True"
      ]
     },
     "execution_count": 9,
     "metadata": {},
     "output_type": "execute_result"
    }
   ],
   "source": [
    "2 in  l"
   ]
  },
  {
   "cell_type": "code",
   "execution_count": 10,
   "id": "3a8a5a1b",
   "metadata": {},
   "outputs": [
    {
     "data": {
      "text/plain": [
       "False"
      ]
     },
     "execution_count": 10,
     "metadata": {},
     "output_type": "execute_result"
    }
   ],
   "source": [
    "8 in l"
   ]
  },
  {
   "cell_type": "code",
   "execution_count": 11,
   "id": "53a3eba5",
   "metadata": {},
   "outputs": [
    {
     "ename": "TypeError",
     "evalue": "'>' not supported between instances of 'str' and 'int'",
     "output_type": "error",
     "traceback": [
      "\u001b[1;31m---------------------------------------------------------------------------\u001b[0m",
      "\u001b[1;31mTypeError\u001b[0m                                 Traceback (most recent call last)",
      "Cell \u001b[1;32mIn[11], line 1\u001b[0m\n\u001b[1;32m----> 1\u001b[0m \u001b[38;5;28mmax\u001b[39m(l)\n",
      "\u001b[1;31mTypeError\u001b[0m: '>' not supported between instances of 'str' and 'int'"
     ]
    }
   ],
   "source": [
    "max(l)"
   ]
  },
  {
   "cell_type": "code",
   "execution_count": 12,
   "id": "5db2e711",
   "metadata": {},
   "outputs": [
    {
     "data": {
      "text/plain": [
       "5"
      ]
     },
     "execution_count": 12,
     "metadata": {},
     "output_type": "execute_result"
    }
   ],
   "source": [
    "max([1,2,3,4,5])"
   ]
  },
  {
   "cell_type": "code",
   "execution_count": 14,
   "id": "6581108f",
   "metadata": {},
   "outputs": [
    {
     "data": {
      "text/plain": [
       "1"
      ]
     },
     "execution_count": 14,
     "metadata": {},
     "output_type": "execute_result"
    }
   ],
   "source": [
    "a=[1,2,3,4,5]\n",
    "min(a)"
   ]
  },
  {
   "cell_type": "code",
   "execution_count": 15,
   "id": "708a43b0",
   "metadata": {},
   "outputs": [],
   "source": [
    "l.append(6)"
   ]
  },
  {
   "cell_type": "code",
   "execution_count": 16,
   "id": "20108fef",
   "metadata": {},
   "outputs": [
    {
     "data": {
      "text/plain": [
       "[1, 2, 3, 4, 5, 'sudh', 45.67, True, 6]"
      ]
     },
     "execution_count": 16,
     "metadata": {},
     "output_type": "execute_result"
    }
   ],
   "source": [
    "l"
   ]
  },
  {
   "cell_type": "code",
   "execution_count": 17,
   "id": "1d6133f8",
   "metadata": {},
   "outputs": [],
   "source": [
    "l.append(a)"
   ]
  },
  {
   "cell_type": "code",
   "execution_count": 18,
   "id": "62a5fcde",
   "metadata": {},
   "outputs": [
    {
     "data": {
      "text/plain": [
       "[1, 2, 3, 4, 5, 'sudh', 45.67, True, 6, [1, 2, 3, 4, 5]]"
      ]
     },
     "execution_count": 18,
     "metadata": {},
     "output_type": "execute_result"
    }
   ],
   "source": [
    "l"
   ]
  },
  {
   "cell_type": "code",
   "execution_count": 19,
   "id": "7e4aded2",
   "metadata": {},
   "outputs": [
    {
     "data": {
      "text/plain": [
       "[1, 2, 3, 4, 5]"
      ]
     },
     "execution_count": 19,
     "metadata": {},
     "output_type": "execute_result"
    }
   ],
   "source": [
    "l.pop()\n",
    "#pop gives the last element of the list if we dont use the parameter and removes that element in the list"
   ]
  },
  {
   "cell_type": "code",
   "execution_count": 20,
   "id": "bdc92e7c",
   "metadata": {},
   "outputs": [
    {
     "data": {
      "text/plain": [
       "[1, 2, 3, 4, 5, 'sudh', 45.67, True, 6]"
      ]
     },
     "execution_count": 20,
     "metadata": {},
     "output_type": "execute_result"
    }
   ],
   "source": [
    "l"
   ]
  },
  {
   "cell_type": "code",
   "execution_count": 21,
   "id": "ba3138a2",
   "metadata": {},
   "outputs": [
    {
     "data": {
      "text/plain": [
       "1"
      ]
     },
     "execution_count": 21,
     "metadata": {},
     "output_type": "execute_result"
    }
   ],
   "source": [
    "l.pop(0)"
   ]
  },
  {
   "cell_type": "code",
   "execution_count": 22,
   "id": "df8c0bcf",
   "metadata": {},
   "outputs": [
    {
     "data": {
      "text/plain": [
       "[2, 3, 4, 5, 'sudh', 45.67, True, 6]"
      ]
     },
     "execution_count": 22,
     "metadata": {},
     "output_type": "execute_result"
    }
   ],
   "source": [
    "l"
   ]
  },
  {
   "cell_type": "code",
   "execution_count": 23,
   "id": "1ae84775",
   "metadata": {},
   "outputs": [],
   "source": [
    "l.reverse()"
   ]
  },
  {
   "cell_type": "code",
   "execution_count": 24,
   "id": "a0dc59df",
   "metadata": {},
   "outputs": [
    {
     "data": {
      "text/plain": [
       "[6, True, 45.67, 'sudh', 5, 4, 3, 2]"
      ]
     },
     "execution_count": 24,
     "metadata": {},
     "output_type": "execute_result"
    }
   ],
   "source": [
    "l"
   ]
  },
  {
   "cell_type": "code",
   "execution_count": 25,
   "id": "c1aec3ff",
   "metadata": {},
   "outputs": [],
   "source": [
    "#l[::-1] reverses the list temporarily but l.reverse() makes the change permanently"
   ]
  },
  {
   "cell_type": "code",
   "execution_count": 30,
   "id": "e88a6224",
   "metadata": {},
   "outputs": [],
   "source": [
    "a.sort(reverse=True)"
   ]
  },
  {
   "cell_type": "code",
   "execution_count": 32,
   "id": "c4a9d339",
   "metadata": {},
   "outputs": [
    {
     "data": {
      "text/plain": [
       "[5, 4, 3, 2, 1]"
      ]
     },
     "execution_count": 32,
     "metadata": {},
     "output_type": "execute_result"
    }
   ],
   "source": [
    "a"
   ]
  },
  {
   "cell_type": "code",
   "execution_count": 33,
   "id": "76505919",
   "metadata": {},
   "outputs": [],
   "source": [
    "a.sort()"
   ]
  },
  {
   "cell_type": "code",
   "execution_count": 34,
   "id": "51b2c70e",
   "metadata": {},
   "outputs": [
    {
     "data": {
      "text/plain": [
       "[1, 2, 3, 4, 5]"
      ]
     },
     "execution_count": 34,
     "metadata": {},
     "output_type": "execute_result"
    }
   ],
   "source": [
    "a"
   ]
  },
  {
   "cell_type": "code",
   "execution_count": 43,
   "id": "233e5923",
   "metadata": {},
   "outputs": [],
   "source": [
    "l1=[4,6,7]\n",
    "l2=[2,9,5]\n",
    "l3=[9,4,6]"
   ]
  },
  {
   "cell_type": "code",
   "execution_count": 44,
   "id": "603f368b",
   "metadata": {},
   "outputs": [
    {
     "data": {
      "text/plain": [
       "[4, 6, 7]"
      ]
     },
     "execution_count": 44,
     "metadata": {},
     "output_type": "execute_result"
    }
   ],
   "source": [
    "l1"
   ]
  },
  {
   "cell_type": "code",
   "execution_count": 45,
   "id": "c0516389",
   "metadata": {},
   "outputs": [
    {
     "data": {
      "text/plain": [
       "[2, 9, 5]"
      ]
     },
     "execution_count": 45,
     "metadata": {},
     "output_type": "execute_result"
    }
   ],
   "source": [
    "l2"
   ]
  },
  {
   "cell_type": "code",
   "execution_count": 46,
   "id": "443bd2af",
   "metadata": {},
   "outputs": [
    {
     "data": {
      "text/plain": [
       "[9, 4, 6]"
      ]
     },
     "execution_count": 46,
     "metadata": {},
     "output_type": "execute_result"
    }
   ],
   "source": [
    "l3"
   ]
  },
  {
   "cell_type": "code",
   "execution_count": 23,
   "id": "2d3620bd",
   "metadata": {},
   "outputs": [],
   "source": [
    "lc=[7,9,6,7,8,7,6]"
   ]
  },
  {
   "cell_type": "code",
   "execution_count": 48,
   "id": "a16cae4f",
   "metadata": {},
   "outputs": [
    {
     "data": {
      "text/plain": [
       "3"
      ]
     },
     "execution_count": 48,
     "metadata": {},
     "output_type": "execute_result"
    }
   ],
   "source": [
    "lc.count(7)"
   ]
  },
  {
   "cell_type": "code",
   "execution_count": 49,
   "id": "4fdd7859",
   "metadata": {},
   "outputs": [
    {
     "data": {
      "text/plain": [
       "2"
      ]
     },
     "execution_count": 49,
     "metadata": {},
     "output_type": "execute_result"
    }
   ],
   "source": [
    "lc .count(6)"
   ]
  },
  {
   "cell_type": "code",
   "execution_count": 52,
   "id": "bbc2314a",
   "metadata": {},
   "outputs": [],
   "source": [
    "l1.append(l2)"
   ]
  },
  {
   "cell_type": "code",
   "execution_count": 57,
   "id": "b318c51c",
   "metadata": {},
   "outputs": [
    {
     "data": {
      "text/plain": [
       "[2, 9, 5]"
      ]
     },
     "execution_count": 57,
     "metadata": {},
     "output_type": "execute_result"
    }
   ],
   "source": [
    "l1.pop()"
   ]
  },
  {
   "cell_type": "code",
   "execution_count": 58,
   "id": "cccd25eb",
   "metadata": {},
   "outputs": [
    {
     "data": {
      "text/plain": [
       "[4, 6, 7]"
      ]
     },
     "execution_count": 58,
     "metadata": {},
     "output_type": "execute_result"
    }
   ],
   "source": [
    "l1"
   ]
  },
  {
   "cell_type": "code",
   "execution_count": 59,
   "id": "eadde5c2",
   "metadata": {},
   "outputs": [],
   "source": [
    "l1.extend(l2)"
   ]
  },
  {
   "cell_type": "code",
   "execution_count": 60,
   "id": "9febd17f",
   "metadata": {},
   "outputs": [
    {
     "data": {
      "text/plain": [
       "[4, 6, 7, 2, 9, 5]"
      ]
     },
     "execution_count": 60,
     "metadata": {},
     "output_type": "execute_result"
    }
   ],
   "source": [
    "l1"
   ]
  },
  {
   "cell_type": "code",
   "execution_count": 61,
   "id": "1d6b90b7",
   "metadata": {},
   "outputs": [],
   "source": [
    "l1.extend(l3)"
   ]
  },
  {
   "cell_type": "code",
   "execution_count": 62,
   "id": "229726eb",
   "metadata": {},
   "outputs": [
    {
     "data": {
      "text/plain": [
       "[4, 6, 7, 2, 9, 5, 9, 4, 6]"
      ]
     },
     "execution_count": 62,
     "metadata": {},
     "output_type": "execute_result"
    }
   ],
   "source": [
    "l1"
   ]
  },
  {
   "cell_type": "code",
   "execution_count": 63,
   "id": "83dcc567",
   "metadata": {},
   "outputs": [],
   "source": [
    "l2.append(l3)"
   ]
  },
  {
   "cell_type": "code",
   "execution_count": 22,
   "id": "4b4a4c0a",
   "metadata": {},
   "outputs": [
    {
     "ename": "NameError",
     "evalue": "name 'l2' is not defined",
     "output_type": "error",
     "traceback": [
      "\u001b[1;31m---------------------------------------------------------------------------\u001b[0m",
      "\u001b[1;31mNameError\u001b[0m                                 Traceback (most recent call last)",
      "Cell \u001b[1;32mIn[22], line 1\u001b[0m\n\u001b[1;32m----> 1\u001b[0m l2\n",
      "\u001b[1;31mNameError\u001b[0m: name 'l2' is not defined"
     ]
    }
   ],
   "source": [
    "l2"
   ]
  },
  {
   "cell_type": "code",
   "execution_count": 65,
   "id": "71444218",
   "metadata": {},
   "outputs": [
    {
     "ename": "TypeError",
     "evalue": "'int' object is not iterable",
     "output_type": "error",
     "traceback": [
      "\u001b[1;31m---------------------------------------------------------------------------\u001b[0m",
      "\u001b[1;31mTypeError\u001b[0m                                 Traceback (most recent call last)",
      "Cell \u001b[1;32mIn[65], line 1\u001b[0m\n\u001b[1;32m----> 1\u001b[0m l2\u001b[38;5;241m.\u001b[39mextend(\u001b[38;5;241m43\u001b[39m)\n",
      "\u001b[1;31mTypeError\u001b[0m: 'int' object is not iterable"
     ]
    }
   ],
   "source": [
    "l2.extend(43)"
   ]
  },
  {
   "cell_type": "code",
   "execution_count": 66,
   "id": "43bf5142",
   "metadata": {},
   "outputs": [],
   "source": [
    "l2.extend('sa')"
   ]
  },
  {
   "cell_type": "code",
   "execution_count": 67,
   "id": "857f4462",
   "metadata": {},
   "outputs": [
    {
     "data": {
      "text/plain": [
       "[2, 9, 5, [9, 4, 6], 's', 'a']"
      ]
     },
     "execution_count": 67,
     "metadata": {},
     "output_type": "execute_result"
    }
   ],
   "source": [
    "l2"
   ]
  },
  {
   "cell_type": "markdown",
   "id": "bcd9dd4f",
   "metadata": {},
   "source": [
    "only iterable objects can be given as input for extend method"
   ]
  },
  {
   "cell_type": "code",
   "execution_count": 68,
   "id": "a655a635",
   "metadata": {},
   "outputs": [
    {
     "data": {
      "text/plain": [
       "[7, 9, 6, 7, 8, 7, 6]"
      ]
     },
     "execution_count": 68,
     "metadata": {},
     "output_type": "execute_result"
    }
   ],
   "source": [
    "lc"
   ]
  },
  {
   "cell_type": "code",
   "execution_count": 69,
   "id": "7071b6ef",
   "metadata": {},
   "outputs": [],
   "source": [
    "lc.remove(7)"
   ]
  },
  {
   "cell_type": "code",
   "execution_count": 70,
   "id": "82332193",
   "metadata": {},
   "outputs": [
    {
     "data": {
      "text/plain": [
       "[9, 6, 7, 8, 7, 6]"
      ]
     },
     "execution_count": 70,
     "metadata": {},
     "output_type": "execute_result"
    }
   ],
   "source": [
    "lc"
   ]
  },
  {
   "cell_type": "code",
   "execution_count": 72,
   "id": "1e885d77",
   "metadata": {},
   "outputs": [],
   "source": [
    "lc.remove(7)"
   ]
  },
  {
   "cell_type": "code",
   "execution_count": 73,
   "id": "cc6cd2a3",
   "metadata": {},
   "outputs": [
    {
     "data": {
      "text/plain": [
       "[9, 6, 8, 7, 6]"
      ]
     },
     "execution_count": 73,
     "metadata": {},
     "output_type": "execute_result"
    }
   ],
   "source": [
    "lc"
   ]
  },
  {
   "cell_type": "code",
   "execution_count": 74,
   "id": "16622571",
   "metadata": {},
   "outputs": [],
   "source": [
    "l.insert(0,7)"
   ]
  },
  {
   "cell_type": "code",
   "execution_count": 75,
   "id": "9619a83e",
   "metadata": {},
   "outputs": [],
   "source": [
    "lc.insert(0,7)"
   ]
  },
  {
   "cell_type": "code",
   "execution_count": 76,
   "id": "38e3bafd",
   "metadata": {},
   "outputs": [
    {
     "data": {
      "text/plain": [
       "[7, 9, 6, 8, 7, 6]"
      ]
     },
     "execution_count": 76,
     "metadata": {},
     "output_type": "execute_result"
    }
   ],
   "source": [
    "lc"
   ]
  },
  {
   "cell_type": "markdown",
   "id": "8530e36b",
   "metadata": {},
   "source": [
    "difference b /w insert and append is we can Insert the data wherever we want in any indexes but with append \n",
    "the element we need to add will be added at the end of the list"
   ]
  },
  {
   "cell_type": "code",
   "execution_count": 79,
   "id": "fdc1331e",
   "metadata": {},
   "outputs": [],
   "source": [
    "lc.remove(7)"
   ]
  },
  {
   "cell_type": "code",
   "execution_count": 80,
   "id": "65d7c41f",
   "metadata": {},
   "outputs": [
    {
     "data": {
      "text/plain": [
       "[9, 6, 8, 7, 6]"
      ]
     },
     "execution_count": 80,
     "metadata": {},
     "output_type": "execute_result"
    }
   ],
   "source": [
    "lc"
   ]
  },
  {
   "cell_type": "markdown",
   "id": "dc022bb0",
   "metadata": {},
   "source": [
    "Remove will delete the value that has been entered as a parameter in the method but when it comes to pop it will remove the index that has been entered as a parameter in pop the parameter is indexe and in remove the parameter is the value"
   ]
  },
  {
   "cell_type": "code",
   "execution_count": 81,
   "id": "0054bc31",
   "metadata": {},
   "outputs": [
    {
     "data": {
      "text/plain": [
       "1"
      ]
     },
     "execution_count": 81,
     "metadata": {},
     "output_type": "execute_result"
    }
   ],
   "source": [
    "lc.index(6)"
   ]
  },
  {
   "cell_type": "code",
   "execution_count": 87,
   "id": "db38b93d",
   "metadata": {},
   "outputs": [
    {
     "data": {
      "text/plain": [
       "4"
      ]
     },
     "execution_count": 87,
     "metadata": {},
     "output_type": "execute_result"
    }
   ],
   "source": [
    "lc.index(6,2)"
   ]
  },
  {
   "cell_type": "code",
   "execution_count": 88,
   "id": "354f9481",
   "metadata": {},
   "outputs": [],
   "source": [
    "lv=lc.copy()"
   ]
  },
  {
   "cell_type": "code",
   "execution_count": 89,
   "id": "1595e8ab",
   "metadata": {},
   "outputs": [
    {
     "data": {
      "text/plain": [
       "[9, 6, 8, 7, 6]"
      ]
     },
     "execution_count": 89,
     "metadata": {},
     "output_type": "execute_result"
    }
   ],
   "source": [
    "lv"
   ]
  },
  {
   "cell_type": "code",
   "execution_count": 90,
   "id": "0da2ec25",
   "metadata": {},
   "outputs": [],
   "source": [
    "lv.clear()"
   ]
  },
  {
   "cell_type": "code",
   "execution_count": 91,
   "id": "72539084",
   "metadata": {},
   "outputs": [
    {
     "data": {
      "text/plain": [
       "[]"
      ]
     },
     "execution_count": 91,
     "metadata": {},
     "output_type": "execute_result"
    }
   ],
   "source": [
    "lv"
   ]
  },
  {
   "cell_type": "code",
   "execution_count": 92,
   "id": "887f0fed",
   "metadata": {},
   "outputs": [
    {
     "data": {
      "text/plain": [
       "'rakesh'"
      ]
     },
     "execution_count": 92,
     "metadata": {},
     "output_type": "execute_result"
    }
   ],
   "source": [
    "s=\"rakesh\"\n",
    "s"
   ]
  },
  {
   "cell_type": "code",
   "execution_count": 93,
   "id": "030072bf",
   "metadata": {},
   "outputs": [
    {
     "data": {
      "text/plain": [
       "[7, True, 6, 45.67, 'sudh', 5, 4, 3, 2]"
      ]
     },
     "execution_count": 93,
     "metadata": {},
     "output_type": "execute_result"
    }
   ],
   "source": [
    "l"
   ]
  },
  {
   "cell_type": "code",
   "execution_count": 94,
   "id": "122f7c28",
   "metadata": {},
   "outputs": [
    {
     "ename": "TypeError",
     "evalue": "'str' object does not support item assignment",
     "output_type": "error",
     "traceback": [
      "\u001b[1;31m---------------------------------------------------------------------------\u001b[0m",
      "\u001b[1;31mTypeError\u001b[0m                                 Traceback (most recent call last)",
      "Cell \u001b[1;32mIn[94], line 1\u001b[0m\n\u001b[1;32m----> 1\u001b[0m s[\u001b[38;5;241m2\u001b[39m]\u001b[38;5;241m=\u001b[39m\u001b[38;5;124m'\u001b[39m\u001b[38;5;124mb\u001b[39m\u001b[38;5;124m'\u001b[39m\n",
      "\u001b[1;31mTypeError\u001b[0m: 'str' object does not support item assignment"
     ]
    }
   ],
   "source": [
    "s[2]='b'"
   ]
  },
  {
   "cell_type": "code",
   "execution_count": 98,
   "id": "69c73cc4",
   "metadata": {},
   "outputs": [],
   "source": [
    "l[2]=30"
   ]
  },
  {
   "cell_type": "markdown",
   "id": "79b2135e",
   "metadata": {},
   "source": [
    "We cannot assign any value to a string index because strings are not mutable\n",
    "but we can assign any value to a list index because lists are mutable"
   ]
  },
  {
   "cell_type": "markdown",
   "id": "4bd1366d",
   "metadata": {},
   "source": [
    "### Tuple"
   ]
  },
  {
   "cell_type": "code",
   "execution_count": 96,
   "id": "4d03b64b",
   "metadata": {},
   "outputs": [],
   "source": [
    "t=(4,5,6,7,\"sudh\",45.67,True)"
   ]
  },
  {
   "cell_type": "code",
   "execution_count": 97,
   "id": "d6aab46f",
   "metadata": {},
   "outputs": [
    {
     "data": {
      "text/plain": [
       "tuple"
      ]
     },
     "execution_count": 97,
     "metadata": {},
     "output_type": "execute_result"
    }
   ],
   "source": [
    "type(t)"
   ]
  },
  {
   "cell_type": "code",
   "execution_count": 99,
   "id": "c9a2b039",
   "metadata": {},
   "outputs": [
    {
     "data": {
      "text/plain": [
       "(True, 45.67, 'sudh', 7, 6, 5, 4)"
      ]
     },
     "execution_count": 99,
     "metadata": {},
     "output_type": "execute_result"
    }
   ],
   "source": [
    "t[::-1]"
   ]
  },
  {
   "cell_type": "code",
   "execution_count": 100,
   "id": "2bc5df1e",
   "metadata": {},
   "outputs": [],
   "source": [
    "t1=(5,6,8,9)"
   ]
  },
  {
   "cell_type": "code",
   "execution_count": 101,
   "id": "a43a4904",
   "metadata": {},
   "outputs": [],
   "source": [
    "t=t+t1"
   ]
  },
  {
   "cell_type": "code",
   "execution_count": 102,
   "id": "08022dc4",
   "metadata": {},
   "outputs": [
    {
     "data": {
      "text/plain": [
       "(4, 5, 6, 7, 'sudh', 45.67, True, 5, 6, 8, 9)"
      ]
     },
     "execution_count": 102,
     "metadata": {},
     "output_type": "execute_result"
    }
   ],
   "source": [
    "t"
   ]
  },
  {
   "cell_type": "markdown",
   "id": "79530fe1",
   "metadata": {},
   "source": [
    "Mutable days only when we change the index of a list or index of a string or index of a tuple but\n",
    "if you concatenate one tuple to another tuple then it won't come under mutability"
   ]
  },
  {
   "cell_type": "code",
   "execution_count": 103,
   "id": "4c48ea4d",
   "metadata": {},
   "outputs": [
    {
     "data": {
      "text/plain": [
       "(4,\n",
       " 5,\n",
       " 6,\n",
       " 7,\n",
       " 'sudh',\n",
       " 45.67,\n",
       " True,\n",
       " 5,\n",
       " 6,\n",
       " 8,\n",
       " 9,\n",
       " 4,\n",
       " 5,\n",
       " 6,\n",
       " 7,\n",
       " 'sudh',\n",
       " 45.67,\n",
       " True,\n",
       " 5,\n",
       " 6,\n",
       " 8,\n",
       " 9,\n",
       " 4,\n",
       " 5,\n",
       " 6,\n",
       " 7,\n",
       " 'sudh',\n",
       " 45.67,\n",
       " True,\n",
       " 5,\n",
       " 6,\n",
       " 8,\n",
       " 9)"
      ]
     },
     "execution_count": 103,
     "metadata": {},
     "output_type": "execute_result"
    }
   ],
   "source": [
    "t*3"
   ]
  },
  {
   "cell_type": "code",
   "execution_count": 104,
   "id": "e8ce9855",
   "metadata": {},
   "outputs": [
    {
     "data": {
      "text/plain": [
       "1"
      ]
     },
     "execution_count": 104,
     "metadata": {},
     "output_type": "execute_result"
    }
   ],
   "source": [
    "t.count(4)"
   ]
  },
  {
   "cell_type": "code",
   "execution_count": 105,
   "id": "1822b464",
   "metadata": {},
   "outputs": [
    {
     "data": {
      "text/plain": [
       "9"
      ]
     },
     "execution_count": 105,
     "metadata": {},
     "output_type": "execute_result"
    }
   ],
   "source": [
    "t.index(8)"
   ]
  },
  {
   "cell_type": "code",
   "execution_count": 106,
   "id": "2b358f93",
   "metadata": {},
   "outputs": [
    {
     "data": {
      "text/plain": [
       "(4, 5, 6, 7, 'sudh', 45.67, True, 5, 6, 8, 9)"
      ]
     },
     "execution_count": 106,
     "metadata": {},
     "output_type": "execute_result"
    }
   ],
   "source": [
    "t"
   ]
  },
  {
   "cell_type": "markdown",
   "id": "4adcb48a",
   "metadata": {},
   "source": [
    "### Dictionary"
   ]
  },
  {
   "cell_type": "code",
   "execution_count": 107,
   "id": "c055f6ad",
   "metadata": {},
   "outputs": [
    {
     "data": {
      "text/plain": [
       "dict"
      ]
     },
     "execution_count": 107,
     "metadata": {},
     "output_type": "execute_result"
    }
   ],
   "source": [
    "d={}\n",
    "type(d)"
   ]
  },
  {
   "cell_type": "code",
   "execution_count": 108,
   "id": "95e96831",
   "metadata": {},
   "outputs": [
    {
     "data": {
      "text/plain": [
       "set"
      ]
     },
     "execution_count": 108,
     "metadata": {},
     "output_type": "execute_result"
    }
   ],
   "source": [
    "e={0}\n",
    "type(e)"
   ]
  },
  {
   "cell_type": "code",
   "execution_count": 109,
   "id": "389b8496",
   "metadata": {},
   "outputs": [],
   "source": [
    "d2={'key':'value',2: 'xyz','name':'rakesh','no':12344}"
   ]
  },
  {
   "cell_type": "code",
   "execution_count": 110,
   "id": "3aa14041",
   "metadata": {},
   "outputs": [
    {
     "data": {
      "text/plain": [
       "dict"
      ]
     },
     "execution_count": 110,
     "metadata": {},
     "output_type": "execute_result"
    }
   ],
   "source": [
    "type(d2)"
   ]
  },
  {
   "cell_type": "code",
   "execution_count": 112,
   "id": "4f541a17",
   "metadata": {},
   "outputs": [
    {
     "data": {
      "text/plain": [
       "'rakesh'"
      ]
     },
     "execution_count": 112,
     "metadata": {},
     "output_type": "execute_result"
    }
   ],
   "source": [
    "d2['name']"
   ]
  },
  {
   "cell_type": "code",
   "execution_count": 114,
   "id": "8978f0dd",
   "metadata": {},
   "outputs": [
    {
     "data": {
      "text/plain": [
       "'value'"
      ]
     },
     "execution_count": 114,
     "metadata": {},
     "output_type": "execute_result"
    }
   ],
   "source": [
    "d2['key']"
   ]
  },
  {
   "cell_type": "code",
   "execution_count": 115,
   "id": "2b29f8c0",
   "metadata": {},
   "outputs": [],
   "source": [
    "d3={'name':'sudh','tech':[\"python\",'ML',\"DL\"]}"
   ]
  },
  {
   "cell_type": "code",
   "execution_count": 116,
   "id": "ae1a316c",
   "metadata": {},
   "outputs": [
    {
     "data": {
      "text/plain": [
       "{'name': 'sudh', 'tech': ['python', 'ML', 'DL']}"
      ]
     },
     "execution_count": 116,
     "metadata": {},
     "output_type": "execute_result"
    }
   ],
   "source": [
    "d3"
   ]
  },
  {
   "cell_type": "code",
   "execution_count": 117,
   "id": "5a527e08",
   "metadata": {},
   "outputs": [
    {
     "data": {
      "text/plain": [
       "{'key': 'value', 2: 'xyz', 'name': 'rakesh', 'no': 12344}"
      ]
     },
     "execution_count": 117,
     "metadata": {},
     "output_type": "execute_result"
    }
   ],
   "source": [
    "d2"
   ]
  },
  {
   "cell_type": "code",
   "execution_count": 119,
   "id": "6e712bdf",
   "metadata": {},
   "outputs": [
    {
     "data": {
      "text/plain": [
       "True"
      ]
     },
     "execution_count": 119,
     "metadata": {},
     "output_type": "execute_result"
    }
   ],
   "source": [
    "'python' in d3['tech']"
   ]
  },
  {
   "cell_type": "code",
   "execution_count": 120,
   "id": "da78da8f",
   "metadata": {},
   "outputs": [],
   "source": [
    "d4={'name':'sudh','con_info':34567}"
   ]
  },
  {
   "cell_type": "code",
   "execution_count": 121,
   "id": "e8808047",
   "metadata": {},
   "outputs": [
    {
     "data": {
      "text/plain": [
       "{'name': 'sudh', 'con_info': 34567}"
      ]
     },
     "execution_count": 121,
     "metadata": {},
     "output_type": "execute_result"
    }
   ],
   "source": [
    "d4"
   ]
  },
  {
   "cell_type": "code",
   "execution_count": 124,
   "id": "7b039fef",
   "metadata": {},
   "outputs": [],
   "source": [
    "d4['k1']=\"xyz\""
   ]
  },
  {
   "cell_type": "code",
   "execution_count": 125,
   "id": "b2691e10",
   "metadata": {},
   "outputs": [
    {
     "data": {
      "text/plain": [
       "{'name': 'sudh', 'con_info': 34567, 'k1': 'xyz'}"
      ]
     },
     "execution_count": 125,
     "metadata": {},
     "output_type": "execute_result"
    }
   ],
   "source": [
    "d4"
   ]
  },
  {
   "cell_type": "code",
   "execution_count": 126,
   "id": "dbcb1b1a",
   "metadata": {},
   "outputs": [],
   "source": [
    "d4['k2']={'name': 'subbu', 'con_info': 3459887}"
   ]
  },
  {
   "cell_type": "code",
   "execution_count": 128,
   "id": "86bdae73",
   "metadata": {},
   "outputs": [
    {
     "data": {
      "text/plain": [
       "{'name': 'subbu', 'con_info': 3459887}"
      ]
     },
     "execution_count": 128,
     "metadata": {},
     "output_type": "execute_result"
    }
   ],
   "source": [
    "d4['k2']"
   ]
  },
  {
   "cell_type": "code",
   "execution_count": 129,
   "id": "8fc7e33e",
   "metadata": {},
   "outputs": [
    {
     "data": {
      "text/plain": [
       "3459887"
      ]
     },
     "execution_count": 129,
     "metadata": {},
     "output_type": "execute_result"
    }
   ],
   "source": [
    "d4['k2']['con_info']"
   ]
  },
  {
   "cell_type": "markdown",
   "id": "824e5e6d",
   "metadata": {},
   "source": [
    "key can be string and tuple but it shouldnt be a list or dict"
   ]
  },
  {
   "cell_type": "code",
   "execution_count": 130,
   "id": "3da6ffac",
   "metadata": {},
   "outputs": [
    {
     "data": {
      "text/plain": [
       "{'name': 'sudh',\n",
       " 'con_info': 34567,\n",
       " 'k1': 'xyz',\n",
       " 'k2': {'name': 'subbu', 'con_info': 3459887}}"
      ]
     },
     "execution_count": 130,
     "metadata": {},
     "output_type": "execute_result"
    }
   ],
   "source": [
    "d4"
   ]
  },
  {
   "cell_type": "code",
   "execution_count": 132,
   "id": "5d84ffb1",
   "metadata": {},
   "outputs": [
    {
     "data": {
      "text/plain": [
       "dict_keys(['name', 'con_info', 'k1', 'k2'])"
      ]
     },
     "execution_count": 132,
     "metadata": {},
     "output_type": "execute_result"
    }
   ],
   "source": [
    "d4.keys()"
   ]
  },
  {
   "cell_type": "code",
   "execution_count": 133,
   "id": "75e1d130",
   "metadata": {},
   "outputs": [
    {
     "data": {
      "text/plain": [
       "dict_values(['sudh', 34567, 'xyz', {'name': 'subbu', 'con_info': 3459887}])"
      ]
     },
     "execution_count": 133,
     "metadata": {},
     "output_type": "execute_result"
    }
   ],
   "source": [
    "d4.values()"
   ]
  },
  {
   "cell_type": "code",
   "execution_count": 138,
   "id": "0315b767",
   "metadata": {},
   "outputs": [],
   "source": [
    "d4.update({'name':'rakesh'})"
   ]
  },
  {
   "cell_type": "code",
   "execution_count": 155,
   "id": "3b401dbd",
   "metadata": {},
   "outputs": [
    {
     "data": {
      "text/plain": [
       "{'name': 'rakesh',\n",
       " 'con_info': 34567,\n",
       " 'k1': 'xyz',\n",
       " 'k2': {'name': 'subbu', 'con_info': 3459887}}"
      ]
     },
     "execution_count": 155,
     "metadata": {},
     "output_type": "execute_result"
    }
   ],
   "source": [
    "d4"
   ]
  },
  {
   "cell_type": "code",
   "execution_count": 171,
   "id": "cea95544",
   "metadata": {},
   "outputs": [
    {
     "data": {
      "text/plain": [
       "18"
      ]
     },
     "execution_count": 171,
     "metadata": {},
     "output_type": "execute_result"
    }
   ],
   "source": [
    "d4.setdefault('age',18)"
   ]
  },
  {
   "cell_type": "code",
   "execution_count": 157,
   "id": "add53459",
   "metadata": {},
   "outputs": [
    {
     "data": {
      "text/plain": [
       "{'name': 'rakesh',\n",
       " 'con_info': 34567,\n",
       " 'k1': 'xyz',\n",
       " 'k2': {'name': 'subbu', 'con_info': 3459887},\n",
       " 'age': 18}"
      ]
     },
     "execution_count": 157,
     "metadata": {},
     "output_type": "execute_result"
    }
   ],
   "source": [
    "d4"
   ]
  },
  {
   "cell_type": "code",
   "execution_count": 172,
   "id": "fabcb5fe",
   "metadata": {},
   "outputs": [
    {
     "data": {
      "text/plain": [
       "18"
      ]
     },
     "execution_count": 172,
     "metadata": {},
     "output_type": "execute_result"
    }
   ],
   "source": [
    "d4['age']"
   ]
  },
  {
   "cell_type": "code",
   "execution_count": 169,
   "id": "2ec2cddd",
   "metadata": {},
   "outputs": [
    {
     "data": {
      "text/plain": [
       "('age', 18)"
      ]
     },
     "execution_count": 169,
     "metadata": {},
     "output_type": "execute_result"
    }
   ],
   "source": [
    "d4.popitem()\n",
    "#popitem takes no argument"
   ]
  },
  {
   "cell_type": "code",
   "execution_count": 170,
   "id": "234ab151",
   "metadata": {},
   "outputs": [
    {
     "data": {
      "text/plain": [
       "{'name': 'rakesh',\n",
       " 'con_info': 34567,\n",
       " 'k1': 'xyz',\n",
       " 'k2': {'name': 'subbu', 'con_info': 3459887}}"
      ]
     },
     "execution_count": 170,
     "metadata": {},
     "output_type": "execute_result"
    }
   ],
   "source": [
    "d4"
   ]
  },
  {
   "cell_type": "code",
   "execution_count": 175,
   "id": "3a268915",
   "metadata": {},
   "outputs": [
    {
     "data": {
      "text/plain": [
       "'xyz'"
      ]
     },
     "execution_count": 175,
     "metadata": {},
     "output_type": "execute_result"
    }
   ],
   "source": [
    "d4.pop(\"k1\")"
   ]
  },
  {
   "cell_type": "code",
   "execution_count": 176,
   "id": "272d2baa",
   "metadata": {},
   "outputs": [
    {
     "data": {
      "text/plain": [
       "{'name': 'rakesh',\n",
       " 'con_info': 34567,\n",
       " 'k2': {'name': 'subbu', 'con_info': 3459887},\n",
       " 'age': 18}"
      ]
     },
     "execution_count": 176,
     "metadata": {},
     "output_type": "execute_result"
    }
   ],
   "source": [
    "d4"
   ]
  },
  {
   "cell_type": "code",
   "execution_count": 177,
   "id": "459acb4f",
   "metadata": {},
   "outputs": [
    {
     "data": {
      "text/plain": [
       "dict_items([('name', 'rakesh'), ('con_info', 34567), ('k2', {'name': 'subbu', 'con_info': 3459887}), ('age', 18)])"
      ]
     },
     "execution_count": 177,
     "metadata": {},
     "output_type": "execute_result"
    }
   ],
   "source": [
    "d4.items()"
   ]
  },
  {
   "cell_type": "code",
   "execution_count": 178,
   "id": "08a9ec32",
   "metadata": {},
   "outputs": [
    {
     "data": {
      "text/plain": [
       "'rakesh'"
      ]
     },
     "execution_count": 178,
     "metadata": {},
     "output_type": "execute_result"
    }
   ],
   "source": [
    "d4.get('name')"
   ]
  },
  {
   "cell_type": "code",
   "execution_count": 181,
   "id": "747126e7",
   "metadata": {},
   "outputs": [],
   "source": [
    "x=('r','a','k')\n",
    "y=0\n",
    "dictio= dict.fromkeys(x,y)"
   ]
  },
  {
   "cell_type": "code",
   "execution_count": 189,
   "id": "2b8eff1a",
   "metadata": {},
   "outputs": [
    {
     "data": {
      "text/plain": [
       "{'r': 0, 'a': 0, 'k': 0}"
      ]
     },
     "execution_count": 189,
     "metadata": {},
     "output_type": "execute_result"
    }
   ],
   "source": [
    "dictio"
   ]
  },
  {
   "cell_type": "code",
   "execution_count": 190,
   "id": "cdb00a00",
   "metadata": {},
   "outputs": [],
   "source": [
    "a= dict.copy(dictio)"
   ]
  },
  {
   "cell_type": "code",
   "execution_count": 184,
   "id": "7dcfbfc6",
   "metadata": {},
   "outputs": [
    {
     "data": {
      "text/plain": [
       "{'r': 0, 'a': 0, 'k': 0}"
      ]
     },
     "execution_count": 184,
     "metadata": {},
     "output_type": "execute_result"
    }
   ],
   "source": [
    "a"
   ]
  },
  {
   "cell_type": "code",
   "execution_count": 187,
   "id": "d8d84007",
   "metadata": {},
   "outputs": [],
   "source": [
    "b=dictio.copy()"
   ]
  },
  {
   "cell_type": "code",
   "execution_count": 188,
   "id": "cceeb5d2",
   "metadata": {},
   "outputs": [
    {
     "data": {
      "text/plain": [
       "{'r': 0, 'a': 0, 'k': 0}"
      ]
     },
     "execution_count": 188,
     "metadata": {},
     "output_type": "execute_result"
    }
   ],
   "source": [
    "b"
   ]
  },
  {
   "cell_type": "code",
   "execution_count": 191,
   "id": "694bae32",
   "metadata": {},
   "outputs": [],
   "source": [
    "b.clear()"
   ]
  },
  {
   "cell_type": "code",
   "execution_count": 192,
   "id": "9c07c1fa",
   "metadata": {},
   "outputs": [
    {
     "data": {
      "text/plain": [
       "{}"
      ]
     },
     "execution_count": 192,
     "metadata": {},
     "output_type": "execute_result"
    }
   ],
   "source": [
    "b"
   ]
  },
  {
   "cell_type": "markdown",
   "id": "403e5177",
   "metadata": {},
   "source": [
    "### set"
   ]
  },
  {
   "cell_type": "code",
   "execution_count": 193,
   "id": "b22ec177",
   "metadata": {},
   "outputs": [],
   "source": [
    "s={1,2,3,7,8,5}"
   ]
  },
  {
   "cell_type": "code",
   "execution_count": 194,
   "id": "c863caf9",
   "metadata": {},
   "outputs": [
    {
     "data": {
      "text/plain": [
       "set"
      ]
     },
     "execution_count": 194,
     "metadata": {},
     "output_type": "execute_result"
    }
   ],
   "source": [
    "type(s)"
   ]
  },
  {
   "cell_type": "code",
   "execution_count": 42,
   "id": "a5e592fd",
   "metadata": {},
   "outputs": [],
   "source": [
    "s1={1,7,5,6,0,6,0,5,6,8,2,2,0,1}"
   ]
  },
  {
   "cell_type": "code",
   "execution_count": 43,
   "id": "ebe91c44",
   "metadata": {},
   "outputs": [
    {
     "data": {
      "text/plain": [
       "{0, 1, 2, 5, 6, 7, 8}"
      ]
     },
     "execution_count": 43,
     "metadata": {},
     "output_type": "execute_result"
    }
   ],
   "source": [
    "s1\n",
    "#set has unique and ordered elements or items in it"
   ]
  },
  {
   "cell_type": "code",
   "execution_count": 44,
   "id": "dbef5d14",
   "metadata": {},
   "outputs": [],
   "source": [
    "s1.add(9)"
   ]
  },
  {
   "cell_type": "code",
   "execution_count": 45,
   "id": "98b9d1b6",
   "metadata": {},
   "outputs": [
    {
     "data": {
      "text/plain": [
       "{0, 1, 2, 5, 6, 7, 8, 9}"
      ]
     },
     "execution_count": 45,
     "metadata": {},
     "output_type": "execute_result"
    }
   ],
   "source": [
    "s1"
   ]
  },
  {
   "cell_type": "code",
   "execution_count": 46,
   "id": "0bb720ab",
   "metadata": {},
   "outputs": [],
   "source": [
    "s1.add((143,431))"
   ]
  },
  {
   "cell_type": "code",
   "execution_count": 47,
   "id": "a7d9b20d",
   "metadata": {},
   "outputs": [
    {
     "ename": "TypeError",
     "evalue": "unhashable type: 'list'",
     "output_type": "error",
     "traceback": [
      "\u001b[1;31m---------------------------------------------------------------------------\u001b[0m",
      "\u001b[1;31mTypeError\u001b[0m                                 Traceback (most recent call last)",
      "Cell \u001b[1;32mIn[47], line 1\u001b[0m\n\u001b[1;32m----> 1\u001b[0m s1\u001b[38;5;241m.\u001b[39madd([\u001b[38;5;241m123\u001b[39m,\u001b[38;5;241m234\u001b[39m])\n",
      "\u001b[1;31mTypeError\u001b[0m: unhashable type: 'list'"
     ]
    }
   ],
   "source": [
    "s1.add([123,234])"
   ]
  },
  {
   "cell_type": "code",
   "execution_count": 48,
   "id": "39f80ab4",
   "metadata": {},
   "outputs": [],
   "source": [
    "s1.add('rak')"
   ]
  },
  {
   "cell_type": "code",
   "execution_count": 49,
   "id": "f2d6b7d9",
   "metadata": {},
   "outputs": [
    {
     "ename": "TypeError",
     "evalue": "unhashable type: 'dict'",
     "output_type": "error",
     "traceback": [
      "\u001b[1;31m---------------------------------------------------------------------------\u001b[0m",
      "\u001b[1;31mTypeError\u001b[0m                                 Traceback (most recent call last)",
      "Cell \u001b[1;32mIn[49], line 1\u001b[0m\n\u001b[1;32m----> 1\u001b[0m s1\u001b[38;5;241m.\u001b[39madd({\u001b[38;5;241m3\u001b[39m:\u001b[38;5;241m5\u001b[39m,\u001b[38;5;124m\"\u001b[39m\u001b[38;5;124mr\u001b[39m\u001b[38;5;124m\"\u001b[39m:\u001b[38;5;124m\"\u001b[39m\u001b[38;5;124mmak\u001b[39m\u001b[38;5;124m\"\u001b[39m})\n",
      "\u001b[1;31mTypeError\u001b[0m: unhashable type: 'dict'"
     ]
    }
   ],
   "source": [
    "s1.add({3:5,\"r\":\"mak\"})"
   ]
  },
  {
   "cell_type": "markdown",
   "id": "b9450e0c",
   "metadata": {},
   "source": [
    "we can add only mutable datatypes to a set but not immutable ones"
   ]
  },
  {
   "cell_type": "code",
   "execution_count": 50,
   "id": "3d0ed0cc",
   "metadata": {},
   "outputs": [
    {
     "data": {
      "text/plain": [
       "{(143, 431), 0, 1, 2, 5, 6, 7, 8, 9, 'rak'}"
      ]
     },
     "execution_count": 50,
     "metadata": {},
     "output_type": "execute_result"
    }
   ],
   "source": [
    "s1"
   ]
  },
  {
   "cell_type": "code",
   "execution_count": 51,
   "id": "71a4fddb",
   "metadata": {},
   "outputs": [],
   "source": [
    "s1.update()"
   ]
  },
  {
   "cell_type": "code",
   "execution_count": 52,
   "id": "8b9dfe33",
   "metadata": {},
   "outputs": [],
   "source": [
    "s1.remove((143,431))"
   ]
  },
  {
   "cell_type": "code",
   "execution_count": 53,
   "id": "150877d2",
   "metadata": {},
   "outputs": [
    {
     "data": {
      "text/plain": [
       "{0, 1, 2, 5, 6, 7, 8, 9, 'rak'}"
      ]
     },
     "execution_count": 53,
     "metadata": {},
     "output_type": "execute_result"
    }
   ],
   "source": [
    "s1"
   ]
  },
  {
   "cell_type": "code",
   "execution_count": 54,
   "id": "c81cba19",
   "metadata": {},
   "outputs": [
    {
     "ename": "KeyError",
     "evalue": "(143, 431)",
     "output_type": "error",
     "traceback": [
      "\u001b[1;31m---------------------------------------------------------------------------\u001b[0m",
      "\u001b[1;31mKeyError\u001b[0m                                  Traceback (most recent call last)",
      "Cell \u001b[1;32mIn[54], line 1\u001b[0m\n\u001b[1;32m----> 1\u001b[0m s1\u001b[38;5;241m.\u001b[39mremove((\u001b[38;5;241m143\u001b[39m,\u001b[38;5;241m431\u001b[39m))\n",
      "\u001b[1;31mKeyError\u001b[0m: (143, 431)"
     ]
    }
   ],
   "source": [
    "s1.remove((143,431))"
   ]
  },
  {
   "cell_type": "code",
   "execution_count": 55,
   "id": "438dd40c",
   "metadata": {},
   "outputs": [],
   "source": [
    "s1.discard((143,431))"
   ]
  },
  {
   "cell_type": "markdown",
   "id": "23354fda",
   "metadata": {},
   "source": [
    "the difference between remove and discard is discard will del the item if its present and if its not present it will return the set as it is..when it comes to remove it will return an error if the element is not present "
   ]
  },
  {
   "cell_type": "code",
   "execution_count": 56,
   "id": "ac82ab6e",
   "metadata": {},
   "outputs": [
    {
     "data": {
      "text/plain": [
       "0"
      ]
     },
     "execution_count": 56,
     "metadata": {},
     "output_type": "execute_result"
    }
   ],
   "source": [
    "s1.pop()"
   ]
  },
  {
   "cell_type": "code",
   "execution_count": 57,
   "id": "99fd888b",
   "metadata": {},
   "outputs": [
    {
     "data": {
      "text/plain": [
       "{1, 2, 5, 6, 7, 8, 9, 'rak'}"
      ]
     },
     "execution_count": 57,
     "metadata": {},
     "output_type": "execute_result"
    }
   ],
   "source": [
    "s1"
   ]
  },
  {
   "cell_type": "code",
   "execution_count": 58,
   "id": "744412a0",
   "metadata": {},
   "outputs": [],
   "source": [
    "s2={98,34,56,78}"
   ]
  },
  {
   "cell_type": "code",
   "execution_count": 59,
   "id": "68582408",
   "metadata": {},
   "outputs": [],
   "source": [
    "s1.update(s2)"
   ]
  },
  {
   "cell_type": "code",
   "execution_count": 60,
   "id": "af3746a1",
   "metadata": {},
   "outputs": [
    {
     "data": {
      "text/plain": [
       "{1, 2, 34, 5, 56, 6, 7, 78, 8, 9, 98, 'rak'}"
      ]
     },
     "execution_count": 60,
     "metadata": {},
     "output_type": "execute_result"
    }
   ],
   "source": [
    "s1"
   ]
  },
  {
   "cell_type": "code",
   "execution_count": 61,
   "id": "5a81c0b7",
   "metadata": {},
   "outputs": [
    {
     "data": {
      "text/plain": [
       "[7, 9, 6, 7, 8, 7, 6]"
      ]
     },
     "execution_count": 61,
     "metadata": {},
     "output_type": "execute_result"
    }
   ],
   "source": [
    "lc"
   ]
  },
  {
   "cell_type": "code",
   "execution_count": 62,
   "id": "c18db04c",
   "metadata": {},
   "outputs": [],
   "source": [
    "s1.update(lc)"
   ]
  },
  {
   "cell_type": "code",
   "execution_count": 63,
   "id": "49b03a43",
   "metadata": {},
   "outputs": [],
   "source": [
    "s1.update('rakesh')"
   ]
  },
  {
   "cell_type": "markdown",
   "id": "e3491ec9",
   "metadata": {},
   "source": [
    "parameter of update should be any iterable datatype"
   ]
  },
  {
   "cell_type": "code",
   "execution_count": 64,
   "id": "16d54eb9",
   "metadata": {},
   "outputs": [
    {
     "data": {
      "text/plain": [
       "{1, 2, 34, 5, 56, 6, 7, 78, 8, 9, 98, 'a', 'e', 'h', 'k', 'r', 'rak', 's'}"
      ]
     },
     "execution_count": 64,
     "metadata": {},
     "output_type": "execute_result"
    }
   ],
   "source": [
    "s1.union(s2)"
   ]
  },
  {
   "cell_type": "code",
   "execution_count": 65,
   "id": "1ebbb849",
   "metadata": {},
   "outputs": [
    {
     "data": {
      "text/plain": [
       "{1, 2, 5, 6, 7, 8, 9, 'a', 'e', 'h', 'k', 'r', 'rak', 's'}"
      ]
     },
     "execution_count": 65,
     "metadata": {},
     "output_type": "execute_result"
    }
   ],
   "source": [
    "s1.symmetric_difference(s2)"
   ]
  },
  {
   "cell_type": "code",
   "execution_count": 66,
   "id": "8e6e0334",
   "metadata": {},
   "outputs": [
    {
     "data": {
      "text/plain": [
       "{1, 2, 34, 5, 56, 6, 7, 78, 8, 9, 98, 'a', 'e', 'h', 'k', 'r', 'rak', 's'}"
      ]
     },
     "execution_count": 66,
     "metadata": {},
     "output_type": "execute_result"
    }
   ],
   "source": [
    "s1"
   ]
  },
  {
   "cell_type": "code",
   "execution_count": 67,
   "id": "6210aef2",
   "metadata": {},
   "outputs": [],
   "source": [
    "s1.symmetric_difference_update(s2)"
   ]
  },
  {
   "cell_type": "code",
   "execution_count": 68,
   "id": "62795682",
   "metadata": {},
   "outputs": [
    {
     "data": {
      "text/plain": [
       "{1, 2, 5, 6, 7, 8, 9, 'a', 'e', 'h', 'k', 'r', 'rak', 's'}"
      ]
     },
     "execution_count": 68,
     "metadata": {},
     "output_type": "execute_result"
    }
   ],
   "source": [
    "s1"
   ]
  },
  {
   "cell_type": "markdown",
   "id": "c98a1ea0",
   "metadata": {},
   "source": [
    "The difference between symmetric difference and symmetric difference update is symmetric difference update makes the changes to the set permanently but when it comes to symmetric difference it make the changes temporarily"
   ]
  },
  {
   "cell_type": "code",
   "execution_count": 69,
   "id": "c7965842",
   "metadata": {},
   "outputs": [],
   "source": [
    "s3={4,5,6,8,3,10,20}"
   ]
  },
  {
   "cell_type": "code",
   "execution_count": 70,
   "id": "2bbff70a",
   "metadata": {},
   "outputs": [
    {
     "data": {
      "text/plain": [
       "{5, 6, 8}"
      ]
     },
     "execution_count": 70,
     "metadata": {},
     "output_type": "execute_result"
    }
   ],
   "source": [
    "s1.intersection(s3)"
   ]
  },
  {
   "cell_type": "code",
   "execution_count": 71,
   "id": "d7a5c46c",
   "metadata": {},
   "outputs": [],
   "source": [
    "s1.intersection_update(s3)"
   ]
  },
  {
   "cell_type": "code",
   "execution_count": 72,
   "id": "163713e2",
   "metadata": {},
   "outputs": [
    {
     "data": {
      "text/plain": [
       "{5, 6, 8}"
      ]
     },
     "execution_count": 72,
     "metadata": {},
     "output_type": "execute_result"
    }
   ],
   "source": [
    "s1"
   ]
  },
  {
   "cell_type": "code",
   "execution_count": 73,
   "id": "9cf358e8",
   "metadata": {},
   "outputs": [],
   "source": [
    "s5={7,8,9}"
   ]
  },
  {
   "cell_type": "code",
   "execution_count": 74,
   "id": "96d5416b",
   "metadata": {},
   "outputs": [
    {
     "data": {
      "text/plain": [
       "{5, 6}"
      ]
     },
     "execution_count": 74,
     "metadata": {},
     "output_type": "execute_result"
    }
   ],
   "source": [
    "s1.difference(s5)"
   ]
  },
  {
   "cell_type": "code",
   "execution_count": 75,
   "id": "60428e32",
   "metadata": {},
   "outputs": [
    {
     "data": {
      "text/plain": [
       "{5, 6, 8}"
      ]
     },
     "execution_count": 75,
     "metadata": {},
     "output_type": "execute_result"
    }
   ],
   "source": [
    "s1"
   ]
  },
  {
   "cell_type": "code",
   "execution_count": 76,
   "id": "a221d3a3",
   "metadata": {},
   "outputs": [
    {
     "data": {
      "text/plain": [
       "{5, 6, 7, 9}"
      ]
     },
     "execution_count": 76,
     "metadata": {},
     "output_type": "execute_result"
    }
   ],
   "source": [
    "s1.symmetric_difference(s5)"
   ]
  },
  {
   "cell_type": "code",
   "execution_count": 80,
   "id": "a2aa29dd",
   "metadata": {},
   "outputs": [],
   "source": [
    "sx={1,2,3,4}\n",
    "sy={3,4}\n",
    "sz={1,2,3,4,5,6}\n",
    "szy={54,56}"
   ]
  },
  {
   "cell_type": "code",
   "execution_count": 78,
   "id": "a65d22cf",
   "metadata": {},
   "outputs": [
    {
     "data": {
      "text/plain": [
       "True"
      ]
     },
     "execution_count": 78,
     "metadata": {},
     "output_type": "execute_result"
    }
   ],
   "source": [
    "sx.issubset(sz)"
   ]
  },
  {
   "cell_type": "code",
   "execution_count": 79,
   "id": "5617a39f",
   "metadata": {},
   "outputs": [
    {
     "data": {
      "text/plain": [
       "True"
      ]
     },
     "execution_count": 79,
     "metadata": {},
     "output_type": "execute_result"
    }
   ],
   "source": [
    "sx.issuperset(sy)"
   ]
  },
  {
   "cell_type": "code",
   "execution_count": 81,
   "id": "bf2cc788",
   "metadata": {},
   "outputs": [
    {
     "data": {
      "text/plain": [
       "True"
      ]
     },
     "execution_count": 81,
     "metadata": {},
     "output_type": "execute_result"
    }
   ],
   "source": [
    "sx.isdisjoint(szy)"
   ]
  },
  {
   "cell_type": "code",
   "execution_count": 82,
   "id": "e7e61e63",
   "metadata": {},
   "outputs": [
    {
     "data": {
      "text/plain": [
       "{1, 2, 3, 4}"
      ]
     },
     "execution_count": 82,
     "metadata": {},
     "output_type": "execute_result"
    }
   ],
   "source": [
    "sx"
   ]
  },
  {
   "cell_type": "code",
   "execution_count": 83,
   "id": "062726b2",
   "metadata": {},
   "outputs": [],
   "source": [
    "szxv=sx.copy()"
   ]
  },
  {
   "cell_type": "code",
   "execution_count": 84,
   "id": "5548f73f",
   "metadata": {},
   "outputs": [
    {
     "data": {
      "text/plain": [
       "{1, 2, 3, 4}"
      ]
     },
     "execution_count": 84,
     "metadata": {},
     "output_type": "execute_result"
    }
   ],
   "source": [
    "szxv"
   ]
  },
  {
   "cell_type": "code",
   "execution_count": null,
   "id": "92ee0006",
   "metadata": {},
   "outputs": [],
   "source": []
  }
 ],
 "metadata": {
  "kernelspec": {
   "display_name": "Python 3 (ipykernel)",
   "language": "python",
   "name": "python3"
  },
  "language_info": {
   "codemirror_mode": {
    "name": "ipython",
    "version": 3
   },
   "file_extension": ".py",
   "mimetype": "text/x-python",
   "name": "python",
   "nbconvert_exporter": "python",
   "pygments_lexer": "ipython3",
   "version": "3.11.5"
  }
 },
 "nbformat": 4,
 "nbformat_minor": 5
}
